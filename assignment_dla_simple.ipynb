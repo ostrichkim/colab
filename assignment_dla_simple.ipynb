{
  "nbformat": 4,
  "nbformat_minor": 0,
  "metadata": {
    "kernelspec": {
      "display_name": "Python 3",
      "language": "python",
      "name": "python3"
    },
    "language_info": {
      "codemirror_mode": {
        "name": "ipython",
        "version": 3
      },
      "file_extension": ".py",
      "mimetype": "text/x-python",
      "name": "python",
      "nbconvert_exporter": "python",
      "pygments_lexer": "ipython3",
      "version": "3.6.5"
    },
    "colab": {
      "name": "assignment_dla_simple.ipynb",
      "provenance": [],
      "collapsed_sections": [],
      "include_colab_link": true
    },
    "accelerator": "GPU"
  },
  "cells": [
    {
      "cell_type": "markdown",
      "metadata": {
        "id": "view-in-github",
        "colab_type": "text"
      },
      "source": [
        "<a href=\"https://colab.research.google.com/github/ostrichkim/colab/blob/main/assignment_dla_simple.ipynb\" target=\"_parent\"><img src=\"https://colab.research.google.com/assets/colab-badge.svg\" alt=\"Open In Colab\"/></a>"
      ]
    },
    {
      "cell_type": "markdown",
      "metadata": {
        "id": "SObWHT5KLqh-"
      },
      "source": [
        "# 시작"
      ]
    },
    {
      "cell_type": "code",
      "metadata": {
        "colab": {
          "base_uri": "https://localhost:8080/"
        },
        "id": "pgPy8ynSMJId",
        "outputId": "4d7c9d0f-fda0-43a1-f1e4-fa70ffcf9e77"
      },
      "source": [
        "from google.colab import drive\n",
        "drive.mount('/content/drive')"
      ],
      "execution_count": null,
      "outputs": [
        {
          "output_type": "stream",
          "name": "stdout",
          "text": [
            "Drive already mounted at /content/drive; to attempt to forcibly remount, call drive.mount(\"/content/drive\", force_remount=True).\n"
          ]
        }
      ]
    },
    {
      "cell_type": "code",
      "source": [
        "# copy folder\n",
        "%cp -av /content/drive/MyDrive/대학원수업/[수업]딥러닝/kuaicv_assingment-main/models /content/\n",
        "%cp -av /content/drive/MyDrive/대학원수업/[수업]딥러닝/kuaicv_assingment-main/utils.py /content/"
      ],
      "metadata": {
        "colab": {
          "base_uri": "https://localhost:8080/"
        },
        "id": "BF09bdMBNMTB",
        "outputId": "41fc6293-af0a-4712-df5a-57eb22816983"
      },
      "execution_count": null,
      "outputs": [
        {
          "output_type": "stream",
          "name": "stdout",
          "text": [
            "'/content/drive/MyDrive/대학원수업/[수업]딥러닝/kuaicv_assingment-main/models' -> '/content/models'\n",
            "'/content/drive/MyDrive/대학원수업/[수업]딥러닝/kuaicv_assingment-main/models/resnet.py' -> '/content/models/resnet.py'\n",
            "'/content/drive/MyDrive/대학원수업/[수업]딥러닝/kuaicv_assingment-main/models/dla_simple.py' -> '/content/models/dla_simple.py'\n",
            "'/content/drive/MyDrive/대학원수업/[수업]딥러닝/kuaicv_assingment-main/models/MobileNetV2.py' -> '/content/models/MobileNetV2.py'\n",
            "'/content/drive/MyDrive/대학원수업/[수업]딥러닝/kuaicv_assingment-main/models/__init__.py' -> '/content/models/__init__.py'\n"
          ]
        }
      ]
    },
    {
      "cell_type": "code",
      "metadata": {
        "id": "KQhM_L7-LqiA"
      },
      "source": [
        "import torch\n",
        "import torch.nn as nn\n",
        "import torch.optim as optim\n",
        "import torch.nn.functional as F\n",
        "import torch.backends.cudnn as cudnn\n",
        "\n",
        "import torchvision\n",
        "import torchvision.transforms as transforms\n",
        "\n",
        "import os\n",
        "import argparse\n",
        "\n",
        "from models import *"
      ],
      "execution_count": null,
      "outputs": []
    },
    {
      "cell_type": "code",
      "metadata": {
        "id": "E1a4xqurLqiB"
      },
      "source": [
        "device = 'cuda' if torch.cuda.is_available() else 'cpu'\n",
        "best_acc = 0  # best test accuracy\n",
        "start_epoch = 0  # start from epoch 0 or last checkpoint epoch"
      ],
      "execution_count": null,
      "outputs": []
    },
    {
      "cell_type": "code",
      "metadata": {
        "id": "cdYhDcy_LqiB"
      },
      "source": [
        "img_size=112\n",
        "learning_rate = 0.01\n",
        "epochs = 30\n",
        "weight_decay = 5e-4\n",
        "momentum = 0.9\n",
        "batch_size = 64\n",
        "num_workers = 2\n",
        "num_classes = 20"
      ],
      "execution_count": null,
      "outputs": []
    },
    {
      "cell_type": "code",
      "source": [
        "# # Normalize with mean and std\n",
        "# from torchvision.io import read_image\n",
        "# from torchvision import datasets\n",
        "\n",
        "# # trainset = datasets.ImageFolder('/content/drive/MyDrive/대학원수업/[수업]딥러닝/kuaicv_assingment-main/train_data',\n",
        "# #                  transform=transforms.ToTensor())\n",
        "# trainset = datasets.ImageFolder('/content/drive/MyDrive/대학원수업/[수업]딥러닝/kuaicv_assingment-main/train_data_200',\n",
        "#                  transform=transforms.ToTensor())\n",
        "# testset = datasets.ImageFolder('/content/drive/MyDrive/대학원수업/[수업]딥러닝/kuaicv_assingment-main/test_data',\n",
        "#                  transform=transforms.ToTensor())\n",
        "\n",
        "# def get_mean_and_std(dataset):\n",
        "#     '''Compute the mean and std value of dataset.'''\n",
        "#     dataloader = torch.utils.data.DataLoader(dataset, batch_size=1, shuffle=True, num_workers=2)\n",
        "#     mean = torch.zeros(3)\n",
        "#     std = torch.zeros(3)\n",
        "#     print('==> Computing mean and std..')\n",
        "#     for inputs, targets in dataloader:\n",
        "#         for i in range(3):\n",
        "#             mean[i] += inputs[:,i,:,:].mean()\n",
        "#             std[i] += inputs[:,i,:,:].std()\n",
        "#     mean.div_(len(dataset))\n",
        "#     std.div_(len(dataset))\n",
        "#     return mean, std\n",
        "\n",
        "# train_mean, train_std = get_mean_and_std(trainset)\n",
        "# test_mean, test_std = get_mean_and_std(testset)\n",
        "# print(train_mean, train_std, '\\n', test_mean, test_std)"
      ],
      "metadata": {
        "id": "bux72N7zb2p1"
      },
      "execution_count": null,
      "outputs": []
    },
    {
      "cell_type": "code",
      "metadata": {
        "scrolled": true,
        "id": "cfODcIAbLqiC",
        "colab": {
          "base_uri": "https://localhost:8080/"
        },
        "outputId": "59047569-147e-4cd0-93a2-902340a7996d"
      },
      "source": [
        "# Data\n",
        "print('==> Preparing data..')\n",
        "transform_train = transforms.Compose([\n",
        "    transforms.Resize((img_size, img_size)),\n",
        "    transforms.RandomHorizontalFlip(),\n",
        "    transforms.ToTensor(),\n",
        "    transforms.Normalize((0.485, 0.456, 0.406), (0.229, 0.224, 0.225)), # ImageNet standard\n",
        "    # transforms.Normalize(train_mean, train_std), # Customized mean and std    \n",
        "])\n",
        "\n",
        "transform_test = transforms.Compose([\n",
        "    transforms.Resize((img_size, img_size)),\n",
        "    transforms.ToTensor(),\n",
        "    transforms.Normalize((0.485, 0.456, 0.406), (0.229, 0.224, 0.225)), # ImageNet standard\n",
        "    # transforms.Normalize(test_mean, test_std), # Customized mean and std\n",
        "])\n",
        "\n",
        "trainset = torchvision.datasets.ImageFolder(root='/content/drive/MyDrive/대학원수업/[수업]딥러닝/kuaicv_assingment-main/train_data', transform=transform_train)\n",
        "# trainset = torchvision.datasets.ImageFolder(root='/content/drive/MyDrive/대학원수업/[수업]딥러닝/kuaicv_assingment-main/train_data_200', transform=transform_train)\n",
        "trainloader = torch.utils.data.DataLoader(trainset, batch_size=batch_size, shuffle=True, num_workers=num_workers)\n",
        "\n",
        "testset = torchvision.datasets.ImageFolder(root='/content/drive/MyDrive/대학원수업/[수업]딥러닝/kuaicv_assingment-main/test_data', transform=transform_test)\n",
        "testloader = torch.utils.data.DataLoader(testset, batch_size=batch_size, shuffle=False, num_workers=num_workers)"
      ],
      "execution_count": null,
      "outputs": [
        {
          "output_type": "stream",
          "name": "stdout",
          "text": [
            "==> Preparing data..\n"
          ]
        }
      ]
    },
    {
      "cell_type": "code",
      "metadata": {
        "id": "WD16fmoVLqiD",
        "colab": {
          "base_uri": "https://localhost:8080/"
        },
        "outputId": "fccb4d73-cdcf-440b-e639-496200e94349"
      },
      "source": [
        "# Model\n",
        "print('==> Building model..')\n",
        "#net = MobileNetV2(num_classes)\n",
        "#net = ResNet50(num_classes)\n",
        "net = SimpleDLA(num_classes=num_classes)\n",
        "net = net.to(device)\n",
        "if device == 'cuda':\n",
        "    net = torch.nn.DataParallel(net)\n",
        "    cudnn.benchmark = True"
      ],
      "execution_count": null,
      "outputs": [
        {
          "output_type": "stream",
          "name": "stdout",
          "text": [
            "==> Building model..\n"
          ]
        }
      ]
    },
    {
      "cell_type": "code",
      "metadata": {
        "id": "VyuhMCocLqiD"
      },
      "source": [
        "# Adjust below codes if you want to train model continuously.\n",
        "if False: \n",
        "    # Load checkpoint.\n",
        "    print('==> Resuming from checkpoint..')\n",
        "    assert os.path.isdir('checkpoint'), 'Error: no checkpoint directory found!'\n",
        "    checkpoint = torch.load('./checkpoint/ckpt.pth')\n",
        "    net.load_state_dict(checkpoint['net'])\n",
        "    best_acc = checkpoint['acc']\n",
        "    start_epoch = checkpoint['epoch']"
      ],
      "execution_count": null,
      "outputs": []
    },
    {
      "cell_type": "code",
      "metadata": {
        "id": "szIzJvGaLqiE"
      },
      "source": [
        "criterion = nn.CrossEntropyLoss()\n",
        "#optimizer = optim.Adam(net.parameters(), lr=learning_rate, weight_decay=weight_decay)\n",
        "optimizer = optim.SGD(net.parameters(), lr=learning_rate, momentum=momentum, weight_decay=weight_decay)\n",
        "scheduler = torch.optim.lr_scheduler.CosineAnnealingLR(optimizer, T_max=epochs)"
      ],
      "execution_count": null,
      "outputs": []
    },
    {
      "cell_type": "code",
      "metadata": {
        "id": "xMmqGkN6LqiE"
      },
      "source": [
        "# Training\n",
        "train_loss_list = []\n",
        "test_loss_list = []\n",
        "train_acc_list = []\n",
        "test_acc_list = []\n",
        "\n",
        "def train(epoch):\n",
        "    net.train()\n",
        "    train_loss = 0\n",
        "    correct = 0\n",
        "    total = 0\n",
        "    for batch_idx, (inputs, targets) in enumerate(trainloader):\n",
        "        inputs, targets = inputs.to(device), targets.to(device)\n",
        "        optimizer.zero_grad()\n",
        "        outputs = net(inputs)\n",
        "        loss = criterion(outputs, targets)\n",
        "        loss.backward()\n",
        "        optimizer.step()\n",
        "\n",
        "        train_loss += loss.item()\n",
        "        _, predicted = outputs.max(1)\n",
        "        total += targets.size(0)\n",
        "        correct += predicted.eq(targets).sum().item()\n",
        "\n",
        "        if (batch_idx+1)%8==0:\n",
        "            print(\"epoch : {}, Train iter : {} / {}, Loss : {:.4f}, Acc : {:.2f}% | {} / {}\".format(\n",
        "                epoch, \n",
        "                batch_idx+1, len(trainloader), \n",
        "                train_loss/(batch_idx+1), \n",
        "                100.*correct/total, correct, total))\n",
        "\n",
        "    print(\"Train epoch : {}, Loss : {:.4f}, Acc : {:.2f}% | {} / {}\".format(\n",
        "        epoch, \n",
        "        train_loss/(batch_idx+1), \n",
        "        100.*correct/total, correct, total))\n",
        "    train_loss_list.append(train_loss/(batch_idx+1))\n",
        "    train_acc_list.append(100.*correct/total)\n",
        "\n",
        "# Testing\n",
        "def test(epoch):\n",
        "    global best_acc\n",
        "    net.eval()\n",
        "    test_loss = 0\n",
        "    correct = 0\n",
        "    total = 0\n",
        "    with torch.no_grad():\n",
        "        for batch_idx, (inputs, targets) in enumerate(testloader):\n",
        "            inputs, targets = inputs.to(device), targets.to(device)\n",
        "            outputs = net(inputs)\n",
        "            loss = criterion(outputs, targets)\n",
        "\n",
        "            test_loss += loss.item()\n",
        "            _, predicted = outputs.max(1)\n",
        "            total += targets.size(0)\n",
        "            correct += predicted.eq(targets).sum().item()\n",
        "\n",
        "    # Save checkpoint.\n",
        "    acc = 100.*correct/total\n",
        "    if acc > best_acc:\n",
        "        print('Saving..')\n",
        "        state = {\n",
        "            'net': net.state_dict(),\n",
        "            'acc': acc,\n",
        "            'epoch': epoch,\n",
        "        }\n",
        "        if not os.path.isdir('checkpoint'):\n",
        "            os.mkdir('checkpoint')\n",
        "        torch.save(state, './checkpoint/ckpt_{}.pth'.format(epoch))\n",
        "        best_acc = acc\n",
        "\n",
        "    print(\"Test epoch : {}, Loss : {:.4f}, Acc : {:.2f}% | {} / {}\".format(\n",
        "        epoch,\n",
        "        test_loss/(batch_idx+1), \n",
        "        100.*correct/total, correct, total))\n",
        "    test_loss_list.append(test_loss/(batch_idx+1))\n",
        "    test_acc_list.append(100.*correct/total)"
      ],
      "execution_count": null,
      "outputs": []
    },
    {
      "cell_type": "code",
      "metadata": {
        "id": "CfKX2yGvLqiG",
        "colab": {
          "base_uri": "https://localhost:8080/"
        },
        "outputId": "ca06509b-a082-4b1b-9b85-ad8d7e1b748e"
      },
      "source": [
        "for epoch in range(epochs):\n",
        "    train(epoch)\n",
        "    test(epoch)\n",
        "    scheduler.step()"
      ],
      "execution_count": null,
      "outputs": [
        {
          "output_type": "stream",
          "name": "stdout",
          "text": [
            "epoch : 0, Train iter : 8 / 32, Loss : 2.9992, Acc : 6.25% | 32 / 512\n",
            "epoch : 0, Train iter : 16 / 32, Loss : 2.9916, Acc : 6.54% | 67 / 1024\n",
            "epoch : 0, Train iter : 24 / 32, Loss : 2.9685, Acc : 7.16% | 110 / 1536\n",
            "epoch : 0, Train iter : 32 / 32, Loss : 2.9218, Acc : 8.60% | 172 / 1999\n",
            "Train epoch : 0, Loss : 2.9218, Acc : 8.60% | 172 / 1999\n",
            "Saving..\n",
            "Test epoch : 0, Loss : 2.8977, Acc : 11.25% | 45 / 400\n",
            "epoch : 1, Train iter : 8 / 32, Loss : 2.6547, Acc : 16.21% | 83 / 512\n",
            "epoch : 1, Train iter : 16 / 32, Loss : 2.6121, Acc : 17.97% | 184 / 1024\n",
            "epoch : 1, Train iter : 24 / 32, Loss : 2.5635, Acc : 19.73% | 303 / 1536\n",
            "epoch : 1, Train iter : 32 / 32, Loss : 2.5250, Acc : 20.36% | 407 / 1999\n",
            "Train epoch : 1, Loss : 2.5250, Acc : 20.36% | 407 / 1999\n",
            "Saving..\n",
            "Test epoch : 1, Loss : 3.4688, Acc : 14.25% | 57 / 400\n",
            "epoch : 2, Train iter : 8 / 32, Loss : 2.3905, Acc : 24.02% | 123 / 512\n",
            "epoch : 2, Train iter : 16 / 32, Loss : 2.3564, Acc : 24.80% | 254 / 1024\n",
            "epoch : 2, Train iter : 24 / 32, Loss : 2.3278, Acc : 25.33% | 389 / 1536\n",
            "epoch : 2, Train iter : 32 / 32, Loss : 2.2977, Acc : 26.16% | 523 / 1999\n",
            "Train epoch : 2, Loss : 2.2977, Acc : 26.16% | 523 / 1999\n",
            "Saving..\n",
            "Test epoch : 2, Loss : 2.6721, Acc : 19.50% | 78 / 400\n",
            "epoch : 3, Train iter : 8 / 32, Loss : 2.1722, Acc : 30.66% | 157 / 512\n",
            "epoch : 3, Train iter : 16 / 32, Loss : 2.1468, Acc : 29.79% | 305 / 1024\n",
            "epoch : 3, Train iter : 24 / 32, Loss : 2.1779, Acc : 28.84% | 443 / 1536\n",
            "epoch : 3, Train iter : 32 / 32, Loss : 2.1762, Acc : 29.51% | 590 / 1999\n",
            "Train epoch : 3, Loss : 2.1762, Acc : 29.51% | 590 / 1999\n",
            "Saving..\n",
            "Test epoch : 3, Loss : 2.9370, Acc : 22.75% | 91 / 400\n",
            "epoch : 4, Train iter : 8 / 32, Loss : 2.1052, Acc : 32.42% | 166 / 512\n",
            "epoch : 4, Train iter : 16 / 32, Loss : 2.0548, Acc : 34.38% | 352 / 1024\n",
            "epoch : 4, Train iter : 24 / 32, Loss : 2.0180, Acc : 34.64% | 532 / 1536\n",
            "epoch : 4, Train iter : 32 / 32, Loss : 2.0079, Acc : 34.82% | 696 / 1999\n",
            "Train epoch : 4, Loss : 2.0079, Acc : 34.82% | 696 / 1999\n",
            "Saving..\n",
            "Test epoch : 4, Loss : 2.6548, Acc : 23.50% | 94 / 400\n",
            "epoch : 5, Train iter : 8 / 32, Loss : 1.8989, Acc : 40.23% | 206 / 512\n",
            "epoch : 5, Train iter : 16 / 32, Loss : 1.9054, Acc : 39.45% | 404 / 1024\n",
            "epoch : 5, Train iter : 24 / 32, Loss : 1.9042, Acc : 39.39% | 605 / 1536\n",
            "epoch : 5, Train iter : 32 / 32, Loss : 1.8984, Acc : 39.22% | 784 / 1999\n",
            "Train epoch : 5, Loss : 1.8984, Acc : 39.22% | 784 / 1999\n",
            "Saving..\n",
            "Test epoch : 5, Loss : 2.5917, Acc : 25.25% | 101 / 400\n",
            "epoch : 6, Train iter : 8 / 32, Loss : 1.7668, Acc : 41.60% | 213 / 512\n",
            "epoch : 6, Train iter : 16 / 32, Loss : 1.7749, Acc : 42.48% | 435 / 1024\n",
            "epoch : 6, Train iter : 24 / 32, Loss : 1.7437, Acc : 43.29% | 665 / 1536\n",
            "epoch : 6, Train iter : 32 / 32, Loss : 1.7362, Acc : 43.82% | 876 / 1999\n",
            "Train epoch : 6, Loss : 1.7362, Acc : 43.82% | 876 / 1999\n",
            "Saving..\n",
            "Test epoch : 6, Loss : 3.0497, Acc : 33.00% | 132 / 400\n",
            "epoch : 7, Train iter : 8 / 32, Loss : 1.6978, Acc : 45.31% | 232 / 512\n",
            "epoch : 7, Train iter : 16 / 32, Loss : 1.7124, Acc : 45.02% | 461 / 1024\n",
            "epoch : 7, Train iter : 24 / 32, Loss : 1.7043, Acc : 44.99% | 691 / 1536\n",
            "epoch : 7, Train iter : 32 / 32, Loss : 1.6944, Acc : 45.67% | 913 / 1999\n",
            "Train epoch : 7, Loss : 1.6944, Acc : 45.67% | 913 / 1999\n",
            "Saving..\n",
            "Test epoch : 7, Loss : 2.1088, Acc : 39.75% | 159 / 400\n",
            "epoch : 8, Train iter : 8 / 32, Loss : 1.6851, Acc : 44.73% | 229 / 512\n",
            "epoch : 8, Train iter : 16 / 32, Loss : 1.6122, Acc : 46.78% | 479 / 1024\n",
            "epoch : 8, Train iter : 24 / 32, Loss : 1.6102, Acc : 48.37% | 743 / 1536\n",
            "epoch : 8, Train iter : 32 / 32, Loss : 1.6405, Acc : 48.57% | 971 / 1999\n",
            "Train epoch : 8, Loss : 1.6405, Acc : 48.57% | 971 / 1999\n",
            "Test epoch : 8, Loss : 2.2061, Acc : 36.00% | 144 / 400\n",
            "epoch : 9, Train iter : 8 / 32, Loss : 1.5404, Acc : 49.41% | 253 / 512\n",
            "epoch : 9, Train iter : 16 / 32, Loss : 1.5736, Acc : 49.51% | 507 / 1024\n",
            "epoch : 9, Train iter : 24 / 32, Loss : 1.5579, Acc : 49.48% | 760 / 1536\n",
            "epoch : 9, Train iter : 32 / 32, Loss : 1.5778, Acc : 49.62% | 992 / 1999\n",
            "Train epoch : 9, Loss : 1.5778, Acc : 49.62% | 992 / 1999\n",
            "Saving..\n",
            "Test epoch : 9, Loss : 1.8772, Acc : 45.00% | 180 / 400\n",
            "epoch : 10, Train iter : 8 / 32, Loss : 1.3568, Acc : 57.81% | 296 / 512\n",
            "epoch : 10, Train iter : 16 / 32, Loss : 1.3836, Acc : 55.57% | 569 / 1024\n",
            "epoch : 10, Train iter : 24 / 32, Loss : 1.3862, Acc : 56.51% | 868 / 1536\n",
            "epoch : 10, Train iter : 32 / 32, Loss : 1.4023, Acc : 56.23% | 1124 / 1999\n",
            "Train epoch : 10, Loss : 1.4023, Acc : 56.23% | 1124 / 1999\n",
            "Test epoch : 10, Loss : 2.4104, Acc : 36.00% | 144 / 400\n",
            "epoch : 11, Train iter : 8 / 32, Loss : 1.3725, Acc : 58.20% | 298 / 512\n",
            "epoch : 11, Train iter : 16 / 32, Loss : 1.3473, Acc : 57.13% | 585 / 1024\n",
            "epoch : 11, Train iter : 24 / 32, Loss : 1.3507, Acc : 57.03% | 876 / 1536\n",
            "epoch : 11, Train iter : 32 / 32, Loss : 1.3227, Acc : 57.53% | 1150 / 1999\n",
            "Train epoch : 11, Loss : 1.3227, Acc : 57.53% | 1150 / 1999\n",
            "Test epoch : 11, Loss : 3.1608, Acc : 28.25% | 113 / 400\n",
            "epoch : 12, Train iter : 8 / 32, Loss : 1.3362, Acc : 53.52% | 274 / 512\n",
            "epoch : 12, Train iter : 16 / 32, Loss : 1.3183, Acc : 56.35% | 577 / 1024\n",
            "epoch : 12, Train iter : 24 / 32, Loss : 1.3078, Acc : 57.36% | 881 / 1536\n",
            "epoch : 12, Train iter : 32 / 32, Loss : 1.3007, Acc : 58.23% | 1164 / 1999\n",
            "Train epoch : 12, Loss : 1.3007, Acc : 58.23% | 1164 / 1999\n",
            "Test epoch : 12, Loss : 2.0301, Acc : 42.00% | 168 / 400\n",
            "epoch : 13, Train iter : 8 / 32, Loss : 1.1883, Acc : 63.87% | 327 / 512\n",
            "epoch : 13, Train iter : 16 / 32, Loss : 1.2013, Acc : 62.30% | 638 / 1024\n",
            "epoch : 13, Train iter : 24 / 32, Loss : 1.2182, Acc : 61.07% | 938 / 1536\n",
            "epoch : 13, Train iter : 32 / 32, Loss : 1.1904, Acc : 61.83% | 1236 / 1999\n",
            "Train epoch : 13, Loss : 1.1904, Acc : 61.83% | 1236 / 1999\n",
            "Saving..\n",
            "Test epoch : 13, Loss : 1.6023, Acc : 47.00% | 188 / 400\n",
            "epoch : 14, Train iter : 8 / 32, Loss : 1.0718, Acc : 64.26% | 329 / 512\n",
            "epoch : 14, Train iter : 16 / 32, Loss : 1.0535, Acc : 65.53% | 671 / 1024\n",
            "epoch : 14, Train iter : 24 / 32, Loss : 1.0532, Acc : 66.15% | 1016 / 1536\n",
            "epoch : 14, Train iter : 32 / 32, Loss : 1.0725, Acc : 65.53% | 1310 / 1999\n",
            "Train epoch : 14, Loss : 1.0725, Acc : 65.53% | 1310 / 1999\n",
            "Saving..\n",
            "Test epoch : 14, Loss : 1.7798, Acc : 51.00% | 204 / 400\n",
            "epoch : 15, Train iter : 8 / 32, Loss : 1.0591, Acc : 65.43% | 335 / 512\n",
            "epoch : 15, Train iter : 16 / 32, Loss : 1.0620, Acc : 64.36% | 659 / 1024\n",
            "epoch : 15, Train iter : 24 / 32, Loss : 1.0516, Acc : 64.39% | 989 / 1536\n",
            "epoch : 15, Train iter : 32 / 32, Loss : 1.0362, Acc : 65.23% | 1304 / 1999\n",
            "Train epoch : 15, Loss : 1.0362, Acc : 65.23% | 1304 / 1999\n",
            "Saving..\n",
            "Test epoch : 15, Loss : 1.6476, Acc : 52.00% | 208 / 400\n",
            "epoch : 16, Train iter : 8 / 32, Loss : 0.9497, Acc : 67.19% | 344 / 512\n",
            "epoch : 16, Train iter : 16 / 32, Loss : 0.9514, Acc : 68.75% | 704 / 1024\n",
            "epoch : 16, Train iter : 24 / 32, Loss : 0.9615, Acc : 68.55% | 1053 / 1536\n",
            "epoch : 16, Train iter : 32 / 32, Loss : 0.9593, Acc : 68.88% | 1377 / 1999\n",
            "Train epoch : 16, Loss : 0.9593, Acc : 68.88% | 1377 / 1999\n",
            "Saving..\n",
            "Test epoch : 16, Loss : 1.3276, Acc : 56.75% | 227 / 400\n",
            "epoch : 17, Train iter : 8 / 32, Loss : 0.9324, Acc : 69.73% | 357 / 512\n",
            "epoch : 17, Train iter : 16 / 32, Loss : 0.8869, Acc : 71.09% | 728 / 1024\n",
            "epoch : 17, Train iter : 24 / 32, Loss : 0.8989, Acc : 71.48% | 1098 / 1536\n",
            "epoch : 17, Train iter : 32 / 32, Loss : 0.9063, Acc : 70.59% | 1411 / 1999\n",
            "Train epoch : 17, Loss : 0.9063, Acc : 70.59% | 1411 / 1999\n",
            "Test epoch : 17, Loss : 1.4299, Acc : 56.25% | 225 / 400\n",
            "epoch : 18, Train iter : 8 / 32, Loss : 0.8163, Acc : 71.88% | 368 / 512\n",
            "epoch : 18, Train iter : 16 / 32, Loss : 0.8304, Acc : 73.05% | 748 / 1024\n",
            "epoch : 18, Train iter : 24 / 32, Loss : 0.8341, Acc : 73.76% | 1133 / 1536\n",
            "epoch : 18, Train iter : 32 / 32, Loss : 0.8476, Acc : 73.29% | 1465 / 1999\n",
            "Train epoch : 18, Loss : 0.8476, Acc : 73.29% | 1465 / 1999\n",
            "Saving..\n",
            "Test epoch : 18, Loss : 1.4615, Acc : 58.75% | 235 / 400\n",
            "epoch : 19, Train iter : 8 / 32, Loss : 0.7558, Acc : 76.76% | 393 / 512\n",
            "epoch : 19, Train iter : 16 / 32, Loss : 0.7687, Acc : 75.49% | 773 / 1024\n",
            "epoch : 19, Train iter : 24 / 32, Loss : 0.7541, Acc : 76.37% | 1173 / 1536\n",
            "epoch : 19, Train iter : 32 / 32, Loss : 0.7581, Acc : 76.39% | 1527 / 1999\n",
            "Train epoch : 19, Loss : 0.7581, Acc : 76.39% | 1527 / 1999\n",
            "Test epoch : 19, Loss : 1.6896, Acc : 48.50% | 194 / 400\n",
            "epoch : 20, Train iter : 8 / 32, Loss : 0.6845, Acc : 79.30% | 406 / 512\n",
            "epoch : 20, Train iter : 16 / 32, Loss : 0.6886, Acc : 78.52% | 804 / 1024\n",
            "epoch : 20, Train iter : 24 / 32, Loss : 0.6745, Acc : 79.04% | 1214 / 1536\n",
            "epoch : 20, Train iter : 32 / 32, Loss : 0.6876, Acc : 79.09% | 1581 / 1999\n",
            "Train epoch : 20, Loss : 0.6876, Acc : 79.09% | 1581 / 1999\n",
            "Test epoch : 20, Loss : 1.2689, Acc : 56.50% | 226 / 400\n",
            "epoch : 21, Train iter : 8 / 32, Loss : 0.5973, Acc : 81.64% | 418 / 512\n",
            "epoch : 21, Train iter : 16 / 32, Loss : 0.5707, Acc : 84.08% | 861 / 1024\n",
            "epoch : 21, Train iter : 24 / 32, Loss : 0.5856, Acc : 83.14% | 1277 / 1536\n",
            "epoch : 21, Train iter : 32 / 32, Loss : 0.5925, Acc : 82.99% | 1659 / 1999\n",
            "Train epoch : 21, Loss : 0.5925, Acc : 82.99% | 1659 / 1999\n",
            "Test epoch : 21, Loss : 1.5289, Acc : 56.75% | 227 / 400\n",
            "epoch : 22, Train iter : 8 / 32, Loss : 0.5472, Acc : 83.98% | 430 / 512\n",
            "epoch : 22, Train iter : 16 / 32, Loss : 0.5477, Acc : 83.40% | 854 / 1024\n",
            "epoch : 22, Train iter : 24 / 32, Loss : 0.5404, Acc : 83.85% | 1288 / 1536\n",
            "epoch : 22, Train iter : 32 / 32, Loss : 0.5589, Acc : 83.74% | 1674 / 1999\n",
            "Train epoch : 22, Loss : 0.5589, Acc : 83.74% | 1674 / 1999\n",
            "Saving..\n",
            "Test epoch : 22, Loss : 1.1837, Acc : 61.75% | 247 / 400\n",
            "epoch : 23, Train iter : 8 / 32, Loss : 0.5286, Acc : 84.96% | 435 / 512\n",
            "epoch : 23, Train iter : 16 / 32, Loss : 0.5100, Acc : 85.84% | 879 / 1024\n",
            "epoch : 23, Train iter : 24 / 32, Loss : 0.5112, Acc : 86.26% | 1325 / 1536\n",
            "epoch : 23, Train iter : 32 / 32, Loss : 0.5047, Acc : 86.24% | 1724 / 1999\n",
            "Train epoch : 23, Loss : 0.5047, Acc : 86.24% | 1724 / 1999\n",
            "Test epoch : 23, Loss : 1.1436, Acc : 61.25% | 245 / 400\n",
            "epoch : 24, Train iter : 8 / 32, Loss : 0.4976, Acc : 86.91% | 445 / 512\n",
            "epoch : 24, Train iter : 16 / 32, Loss : 0.4685, Acc : 87.60% | 897 / 1024\n",
            "epoch : 24, Train iter : 24 / 32, Loss : 0.4618, Acc : 88.09% | 1353 / 1536\n",
            "epoch : 24, Train iter : 32 / 32, Loss : 0.4629, Acc : 87.94% | 1758 / 1999\n",
            "Train epoch : 24, Loss : 0.4629, Acc : 87.94% | 1758 / 1999\n",
            "Saving..\n",
            "Test epoch : 24, Loss : 1.1105, Acc : 63.50% | 254 / 400\n",
            "epoch : 25, Train iter : 8 / 32, Loss : 0.4189, Acc : 88.67% | 454 / 512\n",
            "epoch : 25, Train iter : 16 / 32, Loss : 0.4188, Acc : 88.96% | 911 / 1024\n",
            "epoch : 25, Train iter : 24 / 32, Loss : 0.4075, Acc : 89.06% | 1368 / 1536\n",
            "epoch : 25, Train iter : 32 / 32, Loss : 0.4160, Acc : 89.24% | 1784 / 1999\n",
            "Train epoch : 25, Loss : 0.4160, Acc : 89.24% | 1784 / 1999\n",
            "Test epoch : 25, Loss : 1.0525, Acc : 63.50% | 254 / 400\n",
            "epoch : 26, Train iter : 8 / 32, Loss : 0.4045, Acc : 90.23% | 462 / 512\n",
            "epoch : 26, Train iter : 16 / 32, Loss : 0.3922, Acc : 90.62% | 928 / 1024\n",
            "epoch : 26, Train iter : 24 / 32, Loss : 0.3886, Acc : 90.76% | 1394 / 1536\n",
            "epoch : 26, Train iter : 32 / 32, Loss : 0.3947, Acc : 90.85% | 1816 / 1999\n",
            "Train epoch : 26, Loss : 0.3947, Acc : 90.85% | 1816 / 1999\n",
            "Saving..\n",
            "Test epoch : 26, Loss : 1.0300, Acc : 64.75% | 259 / 400\n",
            "epoch : 27, Train iter : 8 / 32, Loss : 0.3477, Acc : 92.19% | 472 / 512\n",
            "epoch : 27, Train iter : 16 / 32, Loss : 0.3751, Acc : 91.11% | 933 / 1024\n",
            "epoch : 27, Train iter : 24 / 32, Loss : 0.3794, Acc : 90.62% | 1392 / 1536\n",
            "epoch : 27, Train iter : 32 / 32, Loss : 0.3846, Acc : 90.55% | 1810 / 1999\n",
            "Train epoch : 27, Loss : 0.3846, Acc : 90.55% | 1810 / 1999\n",
            "Test epoch : 27, Loss : 1.0328, Acc : 64.25% | 257 / 400\n",
            "epoch : 28, Train iter : 8 / 32, Loss : 0.3640, Acc : 91.60% | 469 / 512\n",
            "epoch : 28, Train iter : 16 / 32, Loss : 0.3511, Acc : 91.70% | 939 / 1024\n",
            "epoch : 28, Train iter : 24 / 32, Loss : 0.3465, Acc : 92.32% | 1418 / 1536\n",
            "epoch : 28, Train iter : 32 / 32, Loss : 0.3634, Acc : 92.00% | 1839 / 1999\n",
            "Train epoch : 28, Loss : 0.3634, Acc : 92.00% | 1839 / 1999\n",
            "Saving..\n",
            "Test epoch : 28, Loss : 1.0201, Acc : 66.50% | 266 / 400\n",
            "epoch : 29, Train iter : 8 / 32, Loss : 0.3503, Acc : 92.38% | 473 / 512\n",
            "epoch : 29, Train iter : 16 / 32, Loss : 0.3524, Acc : 92.48% | 947 / 1024\n",
            "epoch : 29, Train iter : 24 / 32, Loss : 0.3533, Acc : 92.77% | 1425 / 1536\n",
            "epoch : 29, Train iter : 32 / 32, Loss : 0.3624, Acc : 92.65% | 1852 / 1999\n",
            "Train epoch : 29, Loss : 0.3624, Acc : 92.65% | 1852 / 1999\n",
            "Saving..\n",
            "Test epoch : 29, Loss : 1.0100, Acc : 68.00% | 272 / 400\n"
          ]
        }
      ]
    },
    {
      "cell_type": "code",
      "metadata": {
        "id": "TL4aiiKULqiG",
        "colab": {
          "base_uri": "https://localhost:8080/"
        },
        "outputId": "4a0b90eb-a3f1-4eee-e421-53df2ea285ae"
      },
      "source": [
        "#visualize metric\n",
        "import matplotlib.pyplot as plt\n",
        "\n",
        "fig = plt.figure(figsize=(10, 10))\n",
        "ax1 = fig.add_subplot(2, 1, 1)\n",
        "ax2 = fig.add_subplot(2, 1, 2)\n",
        "\n",
        "x = [i for i in range(1, epochs+1)]\n",
        "\n",
        "ax1.plot(x, train_loss_list, 'b--')\n",
        "ax1.plot(x, test_loss_list, 'r--')\n",
        "ax1.set_xlabel('epoch')\n",
        "ax1.set_ylabel('loss')\n",
        "ax1.legend(['train', 'test'])\n",
        "ax1.set_xticks(x)\n",
        "for i, v in enumerate(x):\n",
        "    if (i+1)%5==0: ax1.text(v, train_loss_list[i], \"{:0.5f}\".format(train_loss_list[i]), fontsize = 9, color='blue', horizontalalignment='center', verticalalignment='top')\n",
        "for i, v in enumerate(x):\n",
        "    if (i+1)%5==0: ax1.text(v, test_loss_list[i], \"{:0.5f}\".format(test_loss_list[i]), fontsize = 9, color='red', horizontalalignment='center', verticalalignment='bottom')\n",
        "\n",
        "\n",
        "ax2.plot(x, train_acc_list, 'b--')\n",
        "ax2.plot(x, test_acc_list, 'r--')\n",
        "ax2.set_xlabel('epoch')\n",
        "ax2.set_ylabel('accuracy')\n",
        "ax2.legend(['train', 'test'])\n",
        "ax2.set_xticks(x)\n",
        "for i, v in enumerate(x):\n",
        "    if (i+1)%5==0: ax2.text(v, train_acc_list[i], \"{:0.5f}\".format(train_acc_list[i]), fontsize = 9, color='blue', horizontalalignment='center', verticalalignment='bottom')\n",
        "for i, v in enumerate(x):\n",
        "    if (i+1)%5==0: ax2.text(v, test_acc_list[i], \"{:0.5f}\".format(test_acc_list[i]), fontsize = 9, color='red', horizontalalignment='center', verticalalignment='top')\n",
        "\n",
        "plt.show()"
      ],
      "execution_count": null,
      "outputs": [
        {
          "output_type": "display_data",
          "data": {
            "text/plain": [
              "<Figure size 720x720 with 2 Axes>"
            ],
            "image/png": "[encoded data removed]"
          },
          "metadata": {
            "needs_background": "light"
          }
        }
      ]
    }
  ]
}