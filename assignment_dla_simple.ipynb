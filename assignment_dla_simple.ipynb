{
  "nbformat": 4,
  "nbformat_minor": 0,
  "metadata": {
    "kernelspec": {
      "display_name": "Python 3",
      "language": "python",
      "name": "python3"
    },
    "language_info": {
      "codemirror_mode": {
        "name": "ipython",
        "version": 3
      },
      "file_extension": ".py",
      "mimetype": "text/x-python",
      "name": "python",
      "nbconvert_exporter": "python",
      "pygments_lexer": "ipython3",
      "version": "3.6.5"
    },
    "colab": {
      "name": "assignment_dla_simple.ipynb",
      "provenance": [],
      "collapsed_sections": [],
      "include_colab_link": true
    },
    "accelerator": "GPU"
  },
  "cells": [
    {
      "cell_type": "markdown",
      "metadata": {
        "id": "view-in-github",
        "colab_type": "text"
      },
      "source": [
        "<a href=\"https://colab.research.google.com/github/ostrichkim/colab/blob/main/assignment_dla_simple.ipynb\" target=\"_parent\"><img src=\"https://colab.research.google.com/assets/colab-badge.svg\" alt=\"Open In Colab\"/></a>"
      ]
    },
    {
      "cell_type": "markdown",
      "metadata": {
        "id": "SObWHT5KLqh-"
      },
      "source": [
        "# 시작"
      ]
    },
    {
      "cell_type": "code",
      "metadata": {
        "colab": {
          "base_uri": "https://localhost:8080/"
        },
        "id": "pgPy8ynSMJId",
        "outputId": "4cacda5e-e103-4a2f-a267-a08996fc7c6d"
      },
      "source": [
        "from google.colab import drive\n",
        "drive.mount('/content/drive')"
      ],
      "execution_count": 1,
      "outputs": [
        {
          "output_type": "stream",
          "name": "stdout",
          "text": [
            "Mounted at /content/drive\n"
          ]
        }
      ]
    },
    {
      "cell_type": "code",
      "source": [
        "# copy folder\n",
        "%cp -av /content/drive/MyDrive/대학원수업/[수업]딥러닝/kuaicv_assingment-main/models /content/\n",
        "%cp -av /content/drive/MyDrive/대학원수업/[수업]딥러닝/kuaicv_assingment-main/utils.py /content/"
      ],
      "metadata": {
        "colab": {
          "base_uri": "https://localhost:8080/"
        },
        "id": "BF09bdMBNMTB",
        "outputId": "34b48588-796c-42f7-dcf7-9452c2205f2b"
      },
      "execution_count": 2,
      "outputs": [
        {
          "output_type": "stream",
          "name": "stdout",
          "text": [
            "'/content/drive/MyDrive/대학원수업/[수업]딥러닝/kuaicv_assingment-main/models' -> '/content/models'\n",
            "'/content/drive/MyDrive/대학원수업/[수업]딥러닝/kuaicv_assingment-main/models/resnet.py' -> '/content/models/resnet.py'\n",
            "'/content/drive/MyDrive/대학원수업/[수업]딥러닝/kuaicv_assingment-main/models/dla_simple.py' -> '/content/models/dla_simple.py'\n",
            "'/content/drive/MyDrive/대학원수업/[수업]딥러닝/kuaicv_assingment-main/models/MobileNetV2.py' -> '/content/models/MobileNetV2.py'\n",
            "'/content/drive/MyDrive/대학원수업/[수업]딥러닝/kuaicv_assingment-main/models/__init__.py' -> '/content/models/__init__.py'\n",
            "'/content/drive/MyDrive/대학원수업/[수업]딥러닝/kuaicv_assingment-main/utils.py' -> '/content/utils.py'\n"
          ]
        }
      ]
    },
    {
      "cell_type": "code",
      "metadata": {
        "id": "KQhM_L7-LqiA"
      },
      "source": [
        "import torch\n",
        "import torch.nn as nn\n",
        "import torch.optim as optim\n",
        "import torch.nn.functional as F\n",
        "import torch.backends.cudnn as cudnn\n",
        "\n",
        "import torchvision\n",
        "import torchvision.transforms as transforms\n",
        "\n",
        "import os\n",
        "import argparse\n",
        "import random\n",
        "\n",
        "from models import *\n",
        "random.seed(1)"
      ],
      "execution_count": 3,
      "outputs": []
    },
    {
      "cell_type": "code",
      "metadata": {
        "id": "E1a4xqurLqiB"
      },
      "source": [
        "device = 'cuda' if torch.cuda.is_available() else 'cpu'\n",
        "best_acc = 0  # best test accuracy\n",
        "start_epoch = 0  # start from epoch 0 or last checkpoint epoch"
      ],
      "execution_count": 4,
      "outputs": []
    },
    {
      "cell_type": "code",
      "metadata": {
        "id": "cdYhDcy_LqiB"
      },
      "source": [
        "img_size=112\n",
        "learning_rate = 0.0001\n",
        "epochs = 90\n",
        "weight_decay = 5e-4\n",
        "momentum = 0.9\n",
        "batch_size = 64\n",
        "num_workers = 2\n",
        "num_classes = 20"
      ],
      "execution_count": 5,
      "outputs": []
    },
    {
      "cell_type": "code",
      "source": [
        "# Normalize with mean and std\n",
        "from torchvision.io import read_image\n",
        "from torchvision import datasets\n",
        "\n",
        "# trainset = datasets.ImageFolder('/content/drive/MyDrive/대학원수업/[수업]딥러닝/kuaicv_assingment-main/train_data',\n",
        "#                  transform=transforms.ToTensor())\n",
        "trainset = datasets.ImageFolder('/content/drive/MyDrive/대학원수업/[수업]딥러닝/kuaicv_assingment-main/train_data_200',\n",
        "                 transform=transforms.ToTensor())\n",
        "testset = datasets.ImageFolder('/content/drive/MyDrive/대학원수업/[수업]딥러닝/kuaicv_assingment-main/test_data',\n",
        "                 transform=transforms.ToTensor())\n",
        "\n",
        "def get_mean_and_std(dataset):\n",
        "    '''Compute the mean and std value of dataset.'''\n",
        "    dataloader = torch.utils.data.DataLoader(dataset, batch_size=1, shuffle=True, num_workers=2)\n",
        "    mean = torch.zeros(3)\n",
        "    std = torch.zeros(3)\n",
        "    print('==> Computing mean and std..')\n",
        "    for inputs, targets in dataloader:\n",
        "        for i in range(3):\n",
        "            mean[i] += inputs[:,i,:,:].mean()\n",
        "            std[i] += inputs[:,i,:,:].std()\n",
        "    mean.div_(len(dataset))\n",
        "    std.div_(len(dataset))\n",
        "    return mean, std\n",
        "\n",
        "train_mean, train_std = get_mean_and_std(trainset)\n",
        "test_mean, test_std = get_mean_and_std(testset)\n",
        "print(train_mean, train_std, '\\n', test_mean, test_std)"
      ],
      "metadata": {
        "id": "bux72N7zb2p1",
        "colab": {
          "base_uri": "https://localhost:8080/"
        },
        "outputId": "881fcbf9-7e03-4d46-9d52-001c96cb628a"
      },
      "execution_count": 7,
      "outputs": [
        {
          "output_type": "stream",
          "name": "stdout",
          "text": [
            "==> Computing mean and std..\n"
          ]
        },
        {
          "output_type": "stream",
          "name": "stderr",
          "text": [
            "/usr/local/lib/python3.7/dist-packages/PIL/TiffImagePlugin.py:788: UserWarning: Corrupt EXIF data.  Expecting to read 12 bytes but only got 4. \n",
            "  warnings.warn(str(msg))\n"
          ]
        },
        {
          "output_type": "stream",
          "name": "stdout",
          "text": [
            "==> Computing mean and std..\n",
            "tensor([0.5994, 0.5260, 0.4337]) tensor([0.2356, 0.2540, 0.2774]) \n",
            " tensor([0.6083, 0.5351, 0.4456]) tensor([0.2308, 0.2525, 0.2799])\n"
          ]
        }
      ]
    },
    {
      "cell_type": "code",
      "metadata": {
        "scrolled": true,
        "id": "cfODcIAbLqiC",
        "colab": {
          "base_uri": "https://localhost:8080/"
        },
        "outputId": "9d34b26c-d880-42a3-d671-2a1cec7d6689"
      },
      "source": [
        "# Data\n",
        "print('==> Preparing data..')\n",
        "transform_train = transforms.Compose([\n",
        "    transforms.Resize((img_size, img_size)),\n",
        "    transforms.RandomHorizontalFlip(),\n",
        "    transforms.RandomRotation(90, expand=False),\n",
        "    transforms.ColorJitter(brightness=(0.2, 3)),\n",
        "    transforms.ToTensor(),\n",
        "    # transforms.Normalize((0.485, 0.456, 0.406), (0.229, 0.224, 0.225)), # ImageNet standard\n",
        "    transforms.Normalize(train_mean, train_std), # Customized mean and std    \n",
        "])\n",
        "\n",
        "transform_test = transforms.Compose([\n",
        "    transforms.Resize((img_size, img_size)),\n",
        "    transforms.ToTensor(),\n",
        "    # transforms.Normalize((0.485, 0.456, 0.406), (0.229, 0.224, 0.225)), # ImageNet standard\n",
        "    transforms.Normalize(test_mean, test_std), # Customized mean and std\n",
        "])\n",
        "\n",
        "# trainset = torchvision.datasets.ImageFolder(root='/content/drive/MyDrive/대학원수업/[수업]딥러닝/kuaicv_assingment-main/train_data', transform=transform_train)\n",
        "trainset = torchvision.datasets.ImageFolder(root='/content/drive/MyDrive/대학원수업/[수업]딥러닝/kuaicv_assingment-main/train_data_200', transform=transform_train)\n",
        "trainloader = torch.utils.data.DataLoader(trainset, batch_size=batch_size, shuffle=True, num_workers=num_workers)\n",
        "\n",
        "testset = torchvision.datasets.ImageFolder(root='/content/drive/MyDrive/대학원수업/[수업]딥러닝/kuaicv_assingment-main/test_data', transform=transform_test)\n",
        "testloader = torch.utils.data.DataLoader(testset, batch_size=batch_size, shuffle=False, num_workers=num_workers)"
      ],
      "execution_count": 8,
      "outputs": [
        {
          "output_type": "stream",
          "name": "stdout",
          "text": [
            "==> Preparing data..\n"
          ]
        }
      ]
    },
    {
      "cell_type": "code",
      "metadata": {
        "id": "WD16fmoVLqiD",
        "colab": {
          "base_uri": "https://localhost:8080/"
        },
        "outputId": "9af13498-2b8e-4f11-afed-a9942baedf70"
      },
      "source": [
        "# Model\n",
        "print('==> Building model..')\n",
        "#net = MobileNetV2(num_classes)\n",
        "#net = ResNet50(num_classes)\n",
        "net = SimpleDLA(num_classes=num_classes)\n",
        "net = net.to(device)\n",
        "if device == 'cuda':\n",
        "    net = torch.nn.DataParallel(net)\n",
        "    cudnn.benchmark = True"
      ],
      "execution_count": 9,
      "outputs": [
        {
          "output_type": "stream",
          "name": "stdout",
          "text": [
            "==> Building model..\n"
          ]
        }
      ]
    },
    {
      "cell_type": "code",
      "metadata": {
        "id": "VyuhMCocLqiD"
      },
      "source": [
        "# Adjust below codes if you want to train model continuously.\n",
        "if False: \n",
        "    # Load checkpoint.\n",
        "    print('==> Resuming from checkpoint..')\n",
        "    assert os.path.isdir('checkpoint'), 'Error: no checkpoint directory found!'\n",
        "    checkpoint = torch.load('./checkpoint/ckpt.pth')\n",
        "    net.load_state_dict(checkpoint['net'])\n",
        "    best_acc = checkpoint['acc']\n",
        "    start_epoch = checkpoint['epoch']"
      ],
      "execution_count": 10,
      "outputs": []
    },
    {
      "cell_type": "code",
      "metadata": {
        "id": "szIzJvGaLqiE"
      },
      "source": [
        "criterion = nn.CrossEntropyLoss()\n",
        "optimizer = optim.Adam(net.parameters(), lr=learning_rate, weight_decay=weight_decay)\n",
        "# optimizer = optim.SGD(net.parameters(), lr=learning_rate, momentum=momentum, weight_decay=weight_decay)\n",
        "# scheduler = torch.optim.lr_scheduler.CosineAnnealingLR(optimizer, T_max=epochs)\n",
        "scheduler = torch.optim.lr_scheduler.CosineAnnealingWarmRestarts(optimizer, T_0=epochs)"
      ],
      "execution_count": 11,
      "outputs": []
    },
    {
      "cell_type": "code",
      "metadata": {
        "id": "xMmqGkN6LqiE"
      },
      "source": [
        "# Training\n",
        "train_loss_list = []\n",
        "test_loss_list = []\n",
        "train_acc_list = []\n",
        "test_acc_list = []\n",
        "\n",
        "def train(epoch):\n",
        "    net.train()\n",
        "    train_loss = 0\n",
        "    correct = 0\n",
        "    total = 0\n",
        "    for batch_idx, (inputs, targets) in enumerate(trainloader):\n",
        "        inputs, targets = inputs.to(device), targets.to(device)\n",
        "        optimizer.zero_grad()\n",
        "        outputs = net(inputs)\n",
        "        loss = criterion(outputs, targets)\n",
        "        loss.backward()\n",
        "        optimizer.step()\n",
        "\n",
        "        train_loss += loss.item()\n",
        "        _, predicted = outputs.max(1)\n",
        "        total += targets.size(0)\n",
        "        correct += predicted.eq(targets).sum().item()\n",
        "\n",
        "        if (batch_idx+1)%8==0:\n",
        "            print(\"epoch : {}, Train iter : {} / {}, Loss : {:.4f}, Acc : {:.2f}% | {} / {}\".format(\n",
        "                epoch, \n",
        "                batch_idx+1, len(trainloader), \n",
        "                train_loss/(batch_idx+1), \n",
        "                100.*correct/total, correct, total))\n",
        "\n",
        "    print(\"Train epoch : {}, Loss : {:.4f}, Acc : {:.2f}% | {} / {}\".format(\n",
        "        epoch, \n",
        "        train_loss/(batch_idx+1), \n",
        "        100.*correct/total, correct, total))\n",
        "    train_loss_list.append(train_loss/(batch_idx+1))\n",
        "    train_acc_list.append(100.*correct/total)\n",
        "\n",
        "# Testing\n",
        "def test(epoch):\n",
        "    global best_acc\n",
        "    net.eval()\n",
        "    test_loss = 0\n",
        "    correct = 0\n",
        "    total = 0\n",
        "    with torch.no_grad():\n",
        "        for batch_idx, (inputs, targets) in enumerate(testloader):\n",
        "            inputs, targets = inputs.to(device), targets.to(device)\n",
        "            outputs = net(inputs)\n",
        "            loss = criterion(outputs, targets)\n",
        "\n",
        "            test_loss += loss.item()\n",
        "            _, predicted = outputs.max(1)\n",
        "            total += targets.size(0)\n",
        "            correct += predicted.eq(targets).sum().item()\n",
        "\n",
        "    # Save checkpoint.\n",
        "    acc = 100.*correct/total\n",
        "    if acc > best_acc:\n",
        "        print('Saving..')\n",
        "        state = {\n",
        "            'net': net.state_dict(),\n",
        "            'acc': acc,\n",
        "            'epoch': epoch,\n",
        "        }\n",
        "        if not os.path.isdir('checkpoint'):\n",
        "            os.mkdir('checkpoint')\n",
        "        torch.save(state, './checkpoint/ckpt_{}.pth'.format(epoch))\n",
        "        best_acc = acc\n",
        "\n",
        "    print(\"Test epoch : {}, Loss : {:.4f}, Acc : {:.2f}% | {} / {}\".format(\n",
        "        epoch,\n",
        "        test_loss/(batch_idx+1), \n",
        "        100.*correct/total, correct, total))\n",
        "    test_loss_list.append(test_loss/(batch_idx+1))\n",
        "    test_acc_list.append(100.*correct/total)"
      ],
      "execution_count": 12,
      "outputs": []
    },
    {
      "cell_type": "code",
      "metadata": {
        "id": "CfKX2yGvLqiG",
        "colab": {
          "base_uri": "https://localhost:8080/"
        },
        "outputId": "bdb27252-6fd1-4fd9-d077-11e69d3c2c74"
      },
      "source": [
        "for epoch in range(epochs):\n",
        "    train(epoch)\n",
        "    test(epoch)\n",
        "    scheduler.step()"
      ],
      "execution_count": null,
      "outputs": [
        {
          "output_type": "stream",
          "name": "stdout",
          "text": [
            "epoch : 0, Train iter : 8 / 63, Loss : 3.0218, Acc : 7.03% | 36 / 512\n",
            "epoch : 0, Train iter : 16 / 63, Loss : 2.9781, Acc : 8.50% | 87 / 1024\n",
            "epoch : 0, Train iter : 24 / 63, Loss : 2.9499, Acc : 9.11% | 140 / 1536\n",
            "epoch : 0, Train iter : 32 / 63, Loss : 2.9223, Acc : 9.52% | 195 / 2048\n",
            "epoch : 0, Train iter : 40 / 63, Loss : 2.8929, Acc : 10.59% | 271 / 2560\n"
          ]
        },
        {
          "output_type": "stream",
          "name": "stderr",
          "text": [
            "/usr/local/lib/python3.7/dist-packages/PIL/TiffImagePlugin.py:788: UserWarning: Corrupt EXIF data.  Expecting to read 12 bytes but only got 4. \n",
            "  warnings.warn(str(msg))\n"
          ]
        },
        {
          "output_type": "stream",
          "name": "stdout",
          "text": [
            "epoch : 0, Train iter : 48 / 63, Loss : 2.8613, Acc : 11.33% | 348 / 3072\n",
            "epoch : 0, Train iter : 56 / 63, Loss : 2.8270, Acc : 12.42% | 445 / 3584\n",
            "Train epoch : 0, Loss : 2.7997, Acc : 13.12% | 525 / 4000\n",
            "Saving..\n",
            "Test epoch : 0, Loss : 2.8145, Acc : 14.50% | 58 / 400\n",
            "epoch : 1, Train iter : 8 / 63, Loss : 2.5420, Acc : 18.75% | 96 / 512\n",
            "epoch : 1, Train iter : 16 / 63, Loss : 2.5315, Acc : 19.14% | 196 / 1024\n",
            "epoch : 1, Train iter : 24 / 63, Loss : 2.4974, Acc : 20.18% | 310 / 1536\n"
          ]
        },
        {
          "output_type": "stream",
          "name": "stderr",
          "text": [
            "/usr/local/lib/python3.7/dist-packages/PIL/TiffImagePlugin.py:788: UserWarning: Corrupt EXIF data.  Expecting to read 12 bytes but only got 4. \n",
            "  warnings.warn(str(msg))\n"
          ]
        },
        {
          "output_type": "stream",
          "name": "stdout",
          "text": [
            "epoch : 1, Train iter : 32 / 63, Loss : 2.4785, Acc : 20.41% | 418 / 2048\n",
            "epoch : 1, Train iter : 40 / 63, Loss : 2.4652, Acc : 21.05% | 539 / 2560\n",
            "epoch : 1, Train iter : 48 / 63, Loss : 2.4509, Acc : 21.58% | 663 / 3072\n"
          ]
        },
        {
          "output_type": "stream",
          "name": "stderr",
          "text": [
            "/usr/local/lib/python3.7/dist-packages/PIL/TiffImagePlugin.py:788: UserWarning: Corrupt EXIF data.  Expecting to read 12 bytes but only got 4. \n",
            "  warnings.warn(str(msg))\n"
          ]
        },
        {
          "output_type": "stream",
          "name": "stdout",
          "text": [
            "epoch : 1, Train iter : 56 / 63, Loss : 2.4345, Acc : 22.15% | 794 / 3584\n",
            "Train epoch : 1, Loss : 2.4331, Acc : 22.30% | 892 / 4000\n",
            "Saving..\n",
            "Test epoch : 1, Loss : 2.3660, Acc : 22.50% | 90 / 400\n",
            "epoch : 2, Train iter : 8 / 63, Loss : 2.2730, Acc : 28.91% | 148 / 512\n",
            "epoch : 2, Train iter : 16 / 63, Loss : 2.3003, Acc : 27.44% | 281 / 1024\n"
          ]
        },
        {
          "output_type": "stream",
          "name": "stderr",
          "text": [
            "/usr/local/lib/python3.7/dist-packages/PIL/TiffImagePlugin.py:788: UserWarning: Corrupt EXIF data.  Expecting to read 12 bytes but only got 4. \n",
            "  warnings.warn(str(msg))\n"
          ]
        },
        {
          "output_type": "stream",
          "name": "stdout",
          "text": [
            "epoch : 2, Train iter : 24 / 63, Loss : 2.2977, Acc : 26.95% | 414 / 1536\n"
          ]
        },
        {
          "output_type": "stream",
          "name": "stderr",
          "text": [
            "/usr/local/lib/python3.7/dist-packages/PIL/TiffImagePlugin.py:788: UserWarning: Corrupt EXIF data.  Expecting to read 12 bytes but only got 4. \n",
            "  warnings.warn(str(msg))\n"
          ]
        },
        {
          "output_type": "stream",
          "name": "stdout",
          "text": [
            "epoch : 2, Train iter : 32 / 63, Loss : 2.2959, Acc : 27.34% | 560 / 2048\n",
            "epoch : 2, Train iter : 40 / 63, Loss : 2.2910, Acc : 27.03% | 692 / 2560\n",
            "epoch : 2, Train iter : 48 / 63, Loss : 2.2775, Acc : 27.44% | 843 / 3072\n",
            "epoch : 2, Train iter : 56 / 63, Loss : 2.2704, Acc : 27.87% | 999 / 3584\n",
            "Train epoch : 2, Loss : 2.2677, Acc : 27.80% | 1112 / 4000\n",
            "Saving..\n",
            "Test epoch : 2, Loss : 2.2556, Acc : 28.75% | 115 / 400\n"
          ]
        },
        {
          "output_type": "stream",
          "name": "stderr",
          "text": [
            "/usr/local/lib/python3.7/dist-packages/PIL/TiffImagePlugin.py:788: UserWarning: Corrupt EXIF data.  Expecting to read 12 bytes but only got 4. \n",
            "  warnings.warn(str(msg))\n"
          ]
        },
        {
          "output_type": "stream",
          "name": "stdout",
          "text": [
            "epoch : 3, Train iter : 8 / 63, Loss : 2.1663, Acc : 32.03% | 164 / 512\n",
            "epoch : 3, Train iter : 16 / 63, Loss : 2.1847, Acc : 29.39% | 301 / 1024\n",
            "epoch : 3, Train iter : 24 / 63, Loss : 2.1736, Acc : 30.73% | 472 / 1536\n",
            "epoch : 3, Train iter : 32 / 63, Loss : 2.1717, Acc : 31.01% | 635 / 2048\n",
            "epoch : 3, Train iter : 40 / 63, Loss : 2.1710, Acc : 30.59% | 783 / 2560\n",
            "epoch : 3, Train iter : 48 / 63, Loss : 2.1565, Acc : 31.05% | 954 / 3072\n",
            "epoch : 3, Train iter : 56 / 63, Loss : 2.1542, Acc : 31.47% | 1128 / 3584\n",
            "Train epoch : 3, Loss : 2.1465, Acc : 31.70% | 1268 / 4000\n",
            "Saving..\n",
            "Test epoch : 3, Loss : 2.0419, Acc : 30.75% | 123 / 400\n",
            "epoch : 4, Train iter : 8 / 63, Loss : 2.1856, Acc : 29.49% | 151 / 512\n"
          ]
        },
        {
          "output_type": "stream",
          "name": "stderr",
          "text": [
            "/usr/local/lib/python3.7/dist-packages/PIL/TiffImagePlugin.py:788: UserWarning: Corrupt EXIF data.  Expecting to read 12 bytes but only got 4. \n",
            "  warnings.warn(str(msg))\n"
          ]
        },
        {
          "output_type": "stream",
          "name": "stdout",
          "text": [
            "epoch : 4, Train iter : 16 / 63, Loss : 2.1388, Acc : 31.84% | 326 / 1024\n",
            "epoch : 4, Train iter : 24 / 63, Loss : 2.1297, Acc : 32.29% | 496 / 1536\n",
            "epoch : 4, Train iter : 32 / 63, Loss : 2.1228, Acc : 32.71% | 670 / 2048\n",
            "epoch : 4, Train iter : 40 / 63, Loss : 2.1123, Acc : 33.01% | 845 / 2560\n",
            "epoch : 4, Train iter : 48 / 63, Loss : 2.0974, Acc : 33.53% | 1030 / 3072\n",
            "epoch : 4, Train iter : 56 / 63, Loss : 2.0952, Acc : 33.51% | 1201 / 3584\n",
            "Train epoch : 4, Loss : 2.0782, Acc : 34.00% | 1360 / 4000\n",
            "Test epoch : 4, Loss : 2.0876, Acc : 29.75% | 119 / 400\n"
          ]
        },
        {
          "output_type": "stream",
          "name": "stderr",
          "text": [
            "/usr/local/lib/python3.7/dist-packages/PIL/TiffImagePlugin.py:788: UserWarning: Corrupt EXIF data.  Expecting to read 12 bytes but only got 4. \n",
            "  warnings.warn(str(msg))\n"
          ]
        },
        {
          "output_type": "stream",
          "name": "stdout",
          "text": [
            "epoch : 5, Train iter : 8 / 63, Loss : 2.0515, Acc : 34.96% | 179 / 512\n",
            "epoch : 5, Train iter : 16 / 63, Loss : 2.0342, Acc : 35.94% | 368 / 1024\n",
            "epoch : 5, Train iter : 24 / 63, Loss : 2.0358, Acc : 35.68% | 548 / 1536\n",
            "epoch : 5, Train iter : 32 / 63, Loss : 2.0407, Acc : 35.89% | 735 / 2048\n",
            "epoch : 5, Train iter : 40 / 63, Loss : 2.0265, Acc : 36.45% | 933 / 2560\n",
            "epoch : 5, Train iter : 48 / 63, Loss : 2.0139, Acc : 36.59% | 1124 / 3072\n",
            "epoch : 5, Train iter : 56 / 63, Loss : 2.0186, Acc : 36.13% | 1295 / 3584\n",
            "Train epoch : 5, Loss : 2.0171, Acc : 36.33% | 1453 / 4000\n",
            "Saving..\n",
            "Test epoch : 5, Loss : 1.9979, Acc : 34.00% | 136 / 400\n",
            "epoch : 6, Train iter : 8 / 63, Loss : 1.9859, Acc : 38.09% | 195 / 512\n",
            "epoch : 6, Train iter : 16 / 63, Loss : 1.9551, Acc : 39.16% | 401 / 1024\n",
            "epoch : 6, Train iter : 24 / 63, Loss : 1.9227, Acc : 40.95% | 629 / 1536\n",
            "epoch : 6, Train iter : 32 / 63, Loss : 1.9160, Acc : 40.28% | 825 / 2048\n"
          ]
        },
        {
          "output_type": "stream",
          "name": "stderr",
          "text": [
            "/usr/local/lib/python3.7/dist-packages/PIL/TiffImagePlugin.py:788: UserWarning: Corrupt EXIF data.  Expecting to read 12 bytes but only got 4. \n",
            "  warnings.warn(str(msg))\n"
          ]
        },
        {
          "output_type": "stream",
          "name": "stdout",
          "text": [
            "epoch : 6, Train iter : 40 / 63, Loss : 1.9029, Acc : 40.43% | 1035 / 2560\n",
            "epoch : 6, Train iter : 48 / 63, Loss : 1.9061, Acc : 40.07% | 1231 / 3072\n",
            "epoch : 6, Train iter : 56 / 63, Loss : 1.8971, Acc : 40.23% | 1442 / 3584\n",
            "Train epoch : 6, Loss : 1.8950, Acc : 40.50% | 1620 / 4000\n",
            "Saving..\n",
            "Test epoch : 6, Loss : 1.8704, Acc : 38.75% | 155 / 400\n",
            "epoch : 7, Train iter : 8 / 63, Loss : 1.8542, Acc : 40.62% | 208 / 512\n",
            "epoch : 7, Train iter : 16 / 63, Loss : 1.8442, Acc : 42.68% | 437 / 1024\n",
            "epoch : 7, Train iter : 24 / 63, Loss : 1.8267, Acc : 43.82% | 673 / 1536\n",
            "epoch : 7, Train iter : 32 / 63, Loss : 1.8209, Acc : 43.95% | 900 / 2048\n",
            "epoch : 7, Train iter : 40 / 63, Loss : 1.8134, Acc : 43.87% | 1123 / 2560\n",
            "epoch : 7, Train iter : 48 / 63, Loss : 1.8091, Acc : 43.33% | 1331 / 3072\n"
          ]
        },
        {
          "output_type": "stream",
          "name": "stderr",
          "text": [
            "/usr/local/lib/python3.7/dist-packages/PIL/TiffImagePlugin.py:788: UserWarning: Corrupt EXIF data.  Expecting to read 12 bytes but only got 4. \n",
            "  warnings.warn(str(msg))\n"
          ]
        },
        {
          "output_type": "stream",
          "name": "stdout",
          "text": [
            "epoch : 7, Train iter : 56 / 63, Loss : 1.8122, Acc : 43.44% | 1557 / 3584\n"
          ]
        },
        {
          "output_type": "stream",
          "name": "stderr",
          "text": [
            "/usr/local/lib/python3.7/dist-packages/PIL/TiffImagePlugin.py:788: UserWarning: Corrupt EXIF data.  Expecting to read 12 bytes but only got 4. \n",
            "  warnings.warn(str(msg))\n"
          ]
        },
        {
          "output_type": "stream",
          "name": "stdout",
          "text": [
            "Train epoch : 7, Loss : 1.8200, Acc : 43.10% | 1724 / 4000\n",
            "Saving..\n",
            "Test epoch : 7, Loss : 1.7884, Acc : 43.00% | 172 / 400\n",
            "epoch : 8, Train iter : 8 / 63, Loss : 1.8068, Acc : 41.41% | 212 / 512\n",
            "epoch : 8, Train iter : 16 / 63, Loss : 1.8231, Acc : 41.02% | 420 / 1024\n",
            "epoch : 8, Train iter : 24 / 63, Loss : 1.7954, Acc : 42.12% | 647 / 1536\n"
          ]
        },
        {
          "output_type": "stream",
          "name": "stderr",
          "text": [
            "/usr/local/lib/python3.7/dist-packages/PIL/TiffImagePlugin.py:788: UserWarning: Corrupt EXIF data.  Expecting to read 12 bytes but only got 4. \n",
            "  warnings.warn(str(msg))\n"
          ]
        },
        {
          "output_type": "stream",
          "name": "stdout",
          "text": [
            "epoch : 8, Train iter : 32 / 63, Loss : 1.7906, Acc : 42.92% | 879 / 2048\n",
            "epoch : 8, Train iter : 40 / 63, Loss : 1.7930, Acc : 42.73% | 1094 / 2560\n",
            "epoch : 8, Train iter : 48 / 63, Loss : 1.7817, Acc : 42.90% | 1318 / 3072\n",
            "epoch : 8, Train iter : 56 / 63, Loss : 1.7756, Acc : 43.44% | 1557 / 3584\n",
            "Train epoch : 8, Loss : 1.7788, Acc : 43.62% | 1745 / 4000\n",
            "Saving..\n",
            "Test epoch : 8, Loss : 1.8310, Acc : 46.50% | 186 / 400\n"
          ]
        },
        {
          "output_type": "stream",
          "name": "stderr",
          "text": [
            "/usr/local/lib/python3.7/dist-packages/PIL/TiffImagePlugin.py:788: UserWarning: Corrupt EXIF data.  Expecting to read 12 bytes but only got 4. \n",
            "  warnings.warn(str(msg))\n"
          ]
        },
        {
          "output_type": "stream",
          "name": "stdout",
          "text": [
            "epoch : 9, Train iter : 8 / 63, Loss : 1.7844, Acc : 44.53% | 228 / 512\n",
            "epoch : 9, Train iter : 16 / 63, Loss : 1.7369, Acc : 46.78% | 479 / 1024\n",
            "epoch : 9, Train iter : 24 / 63, Loss : 1.7210, Acc : 46.74% | 718 / 1536\n",
            "epoch : 9, Train iter : 32 / 63, Loss : 1.7080, Acc : 46.68% | 956 / 2048\n",
            "epoch : 9, Train iter : 40 / 63, Loss : 1.6918, Acc : 47.30% | 1211 / 2560\n",
            "epoch : 9, Train iter : 48 / 63, Loss : 1.6942, Acc : 47.10% | 1447 / 3072\n",
            "epoch : 9, Train iter : 56 / 63, Loss : 1.7013, Acc : 46.74% | 1675 / 3584\n",
            "Train epoch : 9, Loss : 1.6995, Acc : 46.85% | 1874 / 4000\n",
            "Test epoch : 9, Loss : 1.7788, Acc : 42.50% | 170 / 400\n",
            "epoch : 10, Train iter : 8 / 63, Loss : 1.6270, Acc : 51.37% | 263 / 512\n",
            "epoch : 10, Train iter : 16 / 63, Loss : 1.6639, Acc : 48.54% | 497 / 1024\n",
            "epoch : 10, Train iter : 24 / 63, Loss : 1.6776, Acc : 47.46% | 729 / 1536\n",
            "epoch : 10, Train iter : 32 / 63, Loss : 1.6684, Acc : 47.61% | 975 / 2048\n",
            "epoch : 10, Train iter : 40 / 63, Loss : 1.6647, Acc : 48.24% | 1235 / 2560\n"
          ]
        },
        {
          "output_type": "stream",
          "name": "stderr",
          "text": [
            "/usr/local/lib/python3.7/dist-packages/PIL/TiffImagePlugin.py:788: UserWarning: Corrupt EXIF data.  Expecting to read 12 bytes but only got 4. \n",
            "  warnings.warn(str(msg))\n"
          ]
        },
        {
          "output_type": "stream",
          "name": "stdout",
          "text": [
            "epoch : 10, Train iter : 48 / 63, Loss : 1.6679, Acc : 47.79% | 1468 / 3072\n"
          ]
        },
        {
          "output_type": "stream",
          "name": "stderr",
          "text": [
            "/usr/local/lib/python3.7/dist-packages/PIL/TiffImagePlugin.py:788: UserWarning: Corrupt EXIF data.  Expecting to read 12 bytes but only got 4. \n",
            "  warnings.warn(str(msg))\n"
          ]
        },
        {
          "output_type": "stream",
          "name": "stdout",
          "text": [
            "epoch : 10, Train iter : 56 / 63, Loss : 1.6668, Acc : 47.99% | 1720 / 3584\n",
            "Train epoch : 10, Loss : 1.6683, Acc : 47.90% | 1916 / 4000\n",
            "Test epoch : 10, Loss : 2.2472, Acc : 39.25% | 157 / 400\n"
          ]
        },
        {
          "output_type": "stream",
          "name": "stderr",
          "text": [
            "/usr/local/lib/python3.7/dist-packages/PIL/TiffImagePlugin.py:788: UserWarning: Corrupt EXIF data.  Expecting to read 12 bytes but only got 4. \n",
            "  warnings.warn(str(msg))\n"
          ]
        },
        {
          "output_type": "stream",
          "name": "stdout",
          "text": [
            "epoch : 11, Train iter : 8 / 63, Loss : 1.5666, Acc : 50.78% | 260 / 512\n",
            "epoch : 11, Train iter : 16 / 63, Loss : 1.5952, Acc : 50.59% | 518 / 1024\n",
            "epoch : 11, Train iter : 24 / 63, Loss : 1.6056, Acc : 49.22% | 756 / 1536\n",
            "epoch : 11, Train iter : 32 / 63, Loss : 1.6110, Acc : 49.41% | 1012 / 2048\n",
            "epoch : 11, Train iter : 40 / 63, Loss : 1.6067, Acc : 49.49% | 1267 / 2560\n",
            "epoch : 11, Train iter : 48 / 63, Loss : 1.6061, Acc : 49.45% | 1519 / 3072\n",
            "epoch : 11, Train iter : 56 / 63, Loss : 1.6164, Acc : 48.91% | 1753 / 3584\n",
            "Train epoch : 11, Loss : 1.6115, Acc : 48.98% | 1959 / 4000\n",
            "Test epoch : 11, Loss : 1.7029, Acc : 43.75% | 175 / 400\n"
          ]
        },
        {
          "output_type": "stream",
          "name": "stderr",
          "text": [
            "/usr/local/lib/python3.7/dist-packages/PIL/TiffImagePlugin.py:788: UserWarning: Corrupt EXIF data.  Expecting to read 12 bytes but only got 4. \n",
            "  warnings.warn(str(msg))\n"
          ]
        },
        {
          "output_type": "stream",
          "name": "stdout",
          "text": [
            "epoch : 12, Train iter : 8 / 63, Loss : 1.4962, Acc : 51.56% | 264 / 512\n",
            "epoch : 12, Train iter : 16 / 63, Loss : 1.5579, Acc : 48.83% | 500 / 1024\n",
            "epoch : 12, Train iter : 24 / 63, Loss : 1.5572, Acc : 49.93% | 767 / 1536\n",
            "epoch : 12, Train iter : 32 / 63, Loss : 1.5453, Acc : 51.22% | 1049 / 2048\n"
          ]
        },
        {
          "output_type": "stream",
          "name": "stderr",
          "text": [
            "/usr/local/lib/python3.7/dist-packages/PIL/TiffImagePlugin.py:788: UserWarning: Corrupt EXIF data.  Expecting to read 12 bytes but only got 4. \n",
            "  warnings.warn(str(msg))\n"
          ]
        },
        {
          "output_type": "stream",
          "name": "stdout",
          "text": [
            "epoch : 12, Train iter : 40 / 63, Loss : 1.5385, Acc : 51.05% | 1307 / 2560\n",
            "epoch : 12, Train iter : 48 / 63, Loss : 1.5389, Acc : 51.43% | 1580 / 3072\n",
            "epoch : 12, Train iter : 56 / 63, Loss : 1.5464, Acc : 51.23% | 1836 / 3584\n",
            "Train epoch : 12, Loss : 1.5527, Acc : 51.10% | 2044 / 4000\n",
            "Test epoch : 12, Loss : 1.9377, Acc : 41.50% | 166 / 400\n",
            "epoch : 13, Train iter : 8 / 63, Loss : 1.4552, Acc : 53.32% | 273 / 512\n",
            "epoch : 13, Train iter : 16 / 63, Loss : 1.5129, Acc : 51.17% | 524 / 1024\n"
          ]
        },
        {
          "output_type": "stream",
          "name": "stderr",
          "text": [
            "/usr/local/lib/python3.7/dist-packages/PIL/TiffImagePlugin.py:788: UserWarning: Corrupt EXIF data.  Expecting to read 12 bytes but only got 4. \n",
            "  warnings.warn(str(msg))\n"
          ]
        },
        {
          "output_type": "stream",
          "name": "stdout",
          "text": [
            "epoch : 13, Train iter : 24 / 63, Loss : 1.4873, Acc : 52.02% | 799 / 1536\n"
          ]
        },
        {
          "output_type": "stream",
          "name": "stderr",
          "text": [
            "/usr/local/lib/python3.7/dist-packages/PIL/TiffImagePlugin.py:788: UserWarning: Corrupt EXIF data.  Expecting to read 12 bytes but only got 4. \n",
            "  warnings.warn(str(msg))\n"
          ]
        },
        {
          "output_type": "stream",
          "name": "stdout",
          "text": [
            "epoch : 13, Train iter : 32 / 63, Loss : 1.4930, Acc : 52.54% | 1076 / 2048\n"
          ]
        }
      ]
    },
    {
      "cell_type": "code",
      "metadata": {
        "id": "TL4aiiKULqiG"
      },
      "source": [
        "#visualize metric\n",
        "import matplotlib.pyplot as plt\n",
        "\n",
        "fig = plt.figure(figsize=(10, 10))\n",
        "ax1 = fig.add_subplot(2, 1, 1)\n",
        "ax2 = fig.add_subplot(2, 1, 2)\n",
        "\n",
        "x = [i for i in range(1, epochs+1)]\n",
        "\n",
        "ax1.plot(x, train_loss_list, 'b--')\n",
        "ax1.plot(x, test_loss_list, 'r--')\n",
        "ax1.set_xlabel('epoch')\n",
        "ax1.set_ylabel('loss')\n",
        "ax1.legend(['train', 'test'])\n",
        "ax1.set_xticks(x)\n",
        "for i, v in enumerate(x):\n",
        "    if (i+1)%5==0: ax1.text(v, train_loss_list[i], \"{:0.5f}\".format(train_loss_list[i]), fontsize = 9, color='blue', horizontalalignment='center', verticalalignment='top')\n",
        "for i, v in enumerate(x):\n",
        "    if (i+1)%5==0: ax1.text(v, test_loss_list[i], \"{:0.5f}\".format(test_loss_list[i]), fontsize = 9, color='red', horizontalalignment='center', verticalalignment='bottom')\n",
        "\n",
        "\n",
        "ax2.plot(x, train_acc_list, 'b--')\n",
        "ax2.plot(x, test_acc_list, 'r--')\n",
        "ax2.set_xlabel('epoch')\n",
        "ax2.set_ylabel('accuracy')\n",
        "ax2.legend(['train', 'test'])\n",
        "ax2.set_xticks(x)\n",
        "for i, v in enumerate(x):\n",
        "    if (i+1)%5==0: ax2.text(v, train_acc_list[i], \"{:0.5f}\".format(train_acc_list[i]), fontsize = 9, color='blue', horizontalalignment='center', verticalalignment='bottom')\n",
        "for i, v in enumerate(x):\n",
        "    if (i+1)%5==0: ax2.text(v, test_acc_list[i], \"{:0.5f}\".format(test_acc_list[i]), fontsize = 9, color='red', horizontalalignment='center', verticalalignment='top')\n",
        "\n",
        "plt.show()"
      ],
      "execution_count": null,
      "outputs": []
    }
  ]
}