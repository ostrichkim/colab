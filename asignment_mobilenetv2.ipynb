{
  "nbformat": 4,
  "nbformat_minor": 0,
  "metadata": {
    "kernelspec": {
      "display_name": "Python 3",
      "language": "python",
      "name": "python3"
    },
    "language_info": {
      "codemirror_mode": {
        "name": "ipython",
        "version": 3
      },
      "file_extension": ".py",
      "mimetype": "text/x-python",
      "name": "python",
      "nbconvert_exporter": "python",
      "pygments_lexer": "ipython3",
      "version": "3.6.5"
    },
    "colab": {
      "name": "asignment_mobilenetv2.ipynb",
      "provenance": [],
      "collapsed_sections": [],
      "include_colab_link": true
    },
    "accelerator": "GPU"
  },
  "cells": [
    {
      "cell_type": "markdown",
      "metadata": {
        "id": "view-in-github",
        "colab_type": "text"
      },
      "source": [
        "<a href=\"https://colab.research.google.com/github/ostrichkim/colab/blob/main/asignment_mobilenetv2.ipynb\" target=\"_parent\"><img src=\"https://colab.research.google.com/assets/colab-badge.svg\" alt=\"Open In Colab\"/></a>"
      ]
    },
    {
      "cell_type": "markdown",
      "metadata": {
        "id": "ngvSFBpOwHZz"
      },
      "source": [
        "# 시작"
      ]
    },
    {
      "cell_type": "code",
      "metadata": {
        "colab": {
          "base_uri": "https://localhost:8080/"
        },
        "id": "POD6bjuOwXKP",
        "outputId": "4243dfc8-01eb-41a0-9d2f-0ba949791edd"
      },
      "source": [
        "from google.colab import drive\n",
        "drive.mount('/content/drive')"
      ],
      "execution_count": null,
      "outputs": [
        {
          "output_type": "stream",
          "name": "stdout",
          "text": [
            "Mounted at /content/drive\n"
          ]
        }
      ]
    },
    {
      "cell_type": "code",
      "source": [
        "# copy folder\n",
        "%cp -av /content/drive/MyDrive/대학원수업/[수업]딥러닝/kuaicv_assingment-main/models /content/\n",
        "%cp -av /content/drive/MyDrive/대학원수업/[수업]딥러닝/kuaicv_assingment-main/utils.py /content/"
      ],
      "metadata": {
        "colab": {
          "base_uri": "https://localhost:8080/"
        },
        "id": "LIZdd0gzFifl",
        "outputId": "aab04375-9591-4117-aa3e-6dce6e9ddda5"
      },
      "execution_count": null,
      "outputs": [
        {
          "output_type": "stream",
          "name": "stdout",
          "text": [
            "'/content/drive/MyDrive/대학원수업/[수업]딥러닝/kuaicv_assingment-main/models' -> '/content/models'\n",
            "'/content/drive/MyDrive/대학원수업/[수업]딥러닝/kuaicv_assingment-main/models/resnet.py' -> '/content/models/resnet.py'\n",
            "'/content/drive/MyDrive/대학원수업/[수업]딥러닝/kuaicv_assingment-main/models/dla_simple.py' -> '/content/models/dla_simple.py'\n",
            "'/content/drive/MyDrive/대학원수업/[수업]딥러닝/kuaicv_assingment-main/models/MobileNetV2.py' -> '/content/models/MobileNetV2.py'\n",
            "'/content/drive/MyDrive/대학원수업/[수업]딥러닝/kuaicv_assingment-main/models/__init__.py' -> '/content/models/__init__.py'\n"
          ]
        }
      ]
    },
    {
      "cell_type": "code",
      "metadata": {
        "id": "KsNUzFznwHZ1"
      },
      "source": [
        "import torch\n",
        "import torch.nn as nn\n",
        "import torch.optim as optim\n",
        "import torch.nn.functional as F\n",
        "import torch.backends.cudnn as cudnn\n",
        "\n",
        "import torchvision\n",
        "import torchvision.transforms as transforms\n",
        "\n",
        "import os\n",
        "import argparse\n",
        "\n",
        "from models import *"
      ],
      "execution_count": null,
      "outputs": []
    },
    {
      "cell_type": "code",
      "metadata": {
        "id": "L7APrF24wHZ2"
      },
      "source": [
        "device = 'cuda' if torch.cuda.is_available() else 'cpu'\n",
        "best_acc = 0  # best test accuracy\n",
        "start_epoch = 0  # start from epoch 0 or last checkpoint epoch"
      ],
      "execution_count": null,
      "outputs": []
    },
    {
      "cell_type": "code",
      "metadata": {
        "id": "nObLhSpTwHZ2"
      },
      "source": [
        "img_size=112\n",
        "learning_rate = 0.01\n",
        "epochs = 30\n",
        "weight_decay = 5e-4\n",
        "momentum = 0.9\n",
        "batch_size = 32\n",
        "num_workers = 2\n",
        "num_classes = 20"
      ],
      "execution_count": null,
      "outputs": []
    },
    {
      "cell_type": "code",
      "source": [
        "# # Normalize with mean and std\n",
        "# from torchvision.io import read_image\n",
        "# from torchvision import datasets\n",
        "\n",
        "# # trainset = datasets.ImageFolder('/content/drive/MyDrive/대학원수업/[수업]딥러닝/kuaicv_assingment-main/train_data',\n",
        "# #                  transform=transforms.ToTensor())\n",
        "# trainset = datasets.ImageFolder('/content/drive/MyDrive/대학원수업/[수업]딥러닝/kuaicv_assingment-main/train_data_200',\n",
        "#                  transform=transforms.ToTensor())\n",
        "# testset = datasets.ImageFolder('/content/drive/MyDrive/대학원수업/[수업]딥러닝/kuaicv_assingment-main/test_data',\n",
        "#                  transform=transforms.ToTensor())\n",
        "\n",
        "# def get_mean_and_std(dataset):\n",
        "#     '''Compute the mean and std value of dataset.'''\n",
        "#     dataloader = torch.utils.data.DataLoader(dataset, batch_size=1, shuffle=True, num_workers=2)\n",
        "#     mean = torch.zeros(3)\n",
        "#     std = torch.zeros(3)\n",
        "#     print('==> Computing mean and std..')\n",
        "#     for inputs, targets in dataloader:\n",
        "#         for i in range(3):\n",
        "#             mean[i] += inputs[:,i,:,:].mean()\n",
        "#             std[i] += inputs[:,i,:,:].std()\n",
        "#     mean.div_(len(dataset))\n",
        "#     std.div_(len(dataset))\n",
        "#     return mean, std\n",
        "\n",
        "# train_mean, train_std = get_mean_and_std(trainset)\n",
        "# test_mean, test_std = get_mean_and_std(testset)\n",
        "# print(train_mean, train_std, '\\n', test_mean, test_std)"
      ],
      "metadata": {
        "id": "BUceDR-bbVjt"
      },
      "execution_count": null,
      "outputs": []
    },
    {
      "cell_type": "code",
      "metadata": {
        "scrolled": true,
        "colab": {
          "base_uri": "https://localhost:8080/"
        },
        "id": "ebnIxF_qwHZ3",
        "outputId": "62f27b52-1779-4507-ba21-fd54a1be1e3e"
      },
      "source": [
        "# Data\n",
        "print('==> Preparing data..')\n",
        "transform_train = transforms.Compose([\n",
        "    transforms.Resize((img_size, img_size)),\n",
        "    transforms.RandomHorizontalFlip(),\n",
        "    transforms.ToTensor(),\n",
        "    transforms.Normalize((0.485, 0.456, 0.406), (0.229, 0.224, 0.225)), # ImageNet standard\n",
        "    # transforms.Normalize(train_mean, train_std), # Customized mean and std\n",
        "])\n",
        "\n",
        "transform_test = transforms.Compose([\n",
        "    transforms.Resize((img_size, img_size)),\n",
        "    transforms.ToTensor(),\n",
        "    transforms.Normalize((0.485, 0.456, 0.406), (0.229, 0.224, 0.225)), # ImageNet standard\n",
        "    # transforms.Normalize(test_mean, test_std), # Customized mean and std\n",
        "])\n",
        "\n",
        "trainset = torchvision.datasets.ImageFolder(root='/content/drive/MyDrive/대학원수업/[수업]딥러닝/kuaicv_assingment-main/train_data', transform=transform_train)\n",
        "# trainset = torchvision.datasets.ImageFolder(root='/content/drive/MyDrive/대학원수업/[수업]딥러닝/kuaicv_assingment-main/train_data_200', transform=transform_train)\n",
        "trainloader = torch.utils.data.DataLoader(trainset, batch_size=batch_size, shuffle=True, num_workers=num_workers)\n",
        "\n",
        "testset = torchvision.datasets.ImageFolder(root='/content/drive/MyDrive/대학원수업/[수업]딥러닝/kuaicv_assingment-main/test_data', transform=transform_test)\n",
        "testloader = torch.utils.data.DataLoader(testset, batch_size=batch_size, shuffle=False, num_workers=num_workers)"
      ],
      "execution_count": null,
      "outputs": [
        {
          "output_type": "stream",
          "name": "stdout",
          "text": [
            "==> Preparing data..\n"
          ]
        }
      ]
    },
    {
      "cell_type": "code",
      "metadata": {
        "colab": {
          "base_uri": "https://localhost:8080/"
        },
        "id": "es902rnxwHZ4",
        "outputId": "1662c1c6-e7b1-44da-861f-ea0ab6a26836"
      },
      "source": [
        "# Model\n",
        "print('==> Building model..')\n",
        "net = MobileNetV2(num_classes)\n",
        "#net = ResNet50(num_classes)\n",
        "#net = SimpleDLA(num_classes=num_classes)\n",
        "net = net.to(device)\n",
        "if device == 'cuda':\n",
        "    net = torch.nn.DataParallel(net)\n",
        "    cudnn.benchmark = True"
      ],
      "execution_count": null,
      "outputs": [
        {
          "output_type": "stream",
          "name": "stdout",
          "text": [
            "==> Building model..\n"
          ]
        }
      ]
    },
    {
      "cell_type": "code",
      "metadata": {
        "id": "2ZC8fWDkwHZ4"
      },
      "source": [
        "# Adjust below codes if you want to train model continuously.\n",
        "if False: \n",
        "    # Load checkpoint.\n",
        "    print('==> Resuming from checkpoint..')\n",
        "    assert os.path.isdir('checkpoint'), 'Error: no checkpoint directory found!'\n",
        "    checkpoint = torch.load('./checkpoint/ckpt.pth')\n",
        "    net.load_state_dict(checkpoint['net'])\n",
        "    best_acc = checkpoint['acc']\n",
        "    start_epoch = checkpoint['epoch']"
      ],
      "execution_count": null,
      "outputs": []
    },
    {
      "cell_type": "code",
      "metadata": {
        "id": "PcDh5rf5wHZ5"
      },
      "source": [
        "criterion = nn.CrossEntropyLoss()\n",
        "#optimizer = optim.Adam(net.parameters(), lr=learning_rate, weight_decay=weight_decay)\n",
        "optimizer = optim.SGD(net.parameters(), lr=learning_rate, momentum=momentum, weight_decay=weight_decay)\n",
        "scheduler = torch.optim.lr_scheduler.CosineAnnealingLR(optimizer, T_max=epochs)\n",
        "# scheduler = torch.optim.lr_scheduler.CosineAnnealingWarmRestarts(optimizer, T_0=epochs)"
      ],
      "execution_count": null,
      "outputs": []
    },
    {
      "cell_type": "code",
      "metadata": {
        "id": "moBnnlGcwHZ5"
      },
      "source": [
        "# Training\n",
        "train_loss_list = []\n",
        "test_loss_list = []\n",
        "train_acc_list = []\n",
        "test_acc_list = []\n",
        "\n",
        "def train(epoch):\n",
        "    net.train()\n",
        "    train_loss = 0\n",
        "    correct = 0\n",
        "    total = 0\n",
        "    for batch_idx, (inputs, targets) in enumerate(trainloader):\n",
        "        inputs, targets = inputs.to(device), targets.to(device)\n",
        "        optimizer.zero_grad()\n",
        "        outputs = net(inputs)\n",
        "        loss = criterion(outputs, targets)\n",
        "        loss.backward()\n",
        "        optimizer.step()\n",
        "\n",
        "        train_loss += loss.item()\n",
        "        _, predicted = outputs.max(1)\n",
        "        total += targets.size(0)\n",
        "        correct += predicted.eq(targets).sum().item()\n",
        "\n",
        "        if (batch_idx+1)%9==0:\n",
        "            print(\"epoch : {}, Train iter : {} / {}, Loss : {:.4f}, Acc : {:.2f}% | {} / {}\".format(\n",
        "                epoch, \n",
        "                batch_idx+1, len(trainloader), \n",
        "                train_loss/(batch_idx+1), \n",
        "                100.*correct/total, correct, total))\n",
        "\n",
        "    print(\"Train epoch : {}, Loss : {:.4f}, Acc : {:.2f}% | {} / {}\".format(\n",
        "        epoch, \n",
        "        train_loss/(batch_idx+1), \n",
        "        100.*correct/total, correct, total))\n",
        "    train_loss_list.append(train_loss/(batch_idx+1))\n",
        "    train_acc_list.append(100.*correct/total)\n",
        "\n",
        "# Testing\n",
        "def test(epoch):\n",
        "    global best_acc\n",
        "    net.eval()\n",
        "    test_loss = 0\n",
        "    correct = 0\n",
        "    total = 0\n",
        "    with torch.no_grad():\n",
        "        for batch_idx, (inputs, targets) in enumerate(testloader):\n",
        "            inputs, targets = inputs.to(device), targets.to(device)\n",
        "            outputs = net(inputs)\n",
        "            loss = criterion(outputs, targets)\n",
        "\n",
        "            test_loss += loss.item()\n",
        "            _, predicted = outputs.max(1)\n",
        "            total += targets.size(0)\n",
        "            correct += predicted.eq(targets).sum().item()\n",
        "\n",
        "    # Save checkpoint.\n",
        "    acc = 100.*correct/total\n",
        "    if acc > best_acc:\n",
        "        print('Saving..')\n",
        "        state = {\n",
        "            'net': net.state_dict(),\n",
        "            'acc': acc,\n",
        "            'epoch': epoch,\n",
        "        }\n",
        "        if not os.path.isdir('checkpoint'):\n",
        "            os.mkdir('checkpoint')\n",
        "        torch.save(state, './checkpoint/ckpt_{}.pth'.format(epoch))\n",
        "        best_acc = acc\n",
        "\n",
        "    print(\"Test epoch : {}, Loss : {:.4f}, Acc : {:.2f}% | {} / {}\".format(\n",
        "        epoch,\n",
        "        test_loss/(batch_idx+1), \n",
        "        100.*correct/total, correct, total))\n",
        "    test_loss_list.append(test_loss/(batch_idx+1))\n",
        "    test_acc_list.append(100.*correct/total)"
      ],
      "execution_count": null,
      "outputs": []
    },
    {
      "cell_type": "code",
      "metadata": {
        "colab": {
          "base_uri": "https://localhost:8080/"
        },
        "id": "RDZwy2t7wHZ7",
        "outputId": "c92384ce-bf0c-42b2-b94e-aad91a11b69f"
      },
      "source": [
        "for epoch in range(epochs):\n",
        "    train(epoch)\n",
        "    test(epoch)\n",
        "    scheduler.step()"
      ],
      "execution_count": null,
      "outputs": [
        {
          "output_type": "stream",
          "name": "stdout",
          "text": [
            "epoch : 0, Train iter : 9 / 63, Loss : 3.0661, Acc : 4.51% | 13 / 288\n",
            "epoch : 0, Train iter : 18 / 63, Loss : 3.0622, Acc : 5.38% | 31 / 576\n",
            "epoch : 0, Train iter : 27 / 63, Loss : 3.0361, Acc : 6.60% | 57 / 864\n",
            "epoch : 0, Train iter : 36 / 63, Loss : 3.0206, Acc : 7.47% | 86 / 1152\n",
            "epoch : 0, Train iter : 45 / 63, Loss : 2.9811, Acc : 8.68% | 125 / 1440\n",
            "epoch : 0, Train iter : 54 / 63, Loss : 2.9431, Acc : 10.01% | 173 / 1728\n",
            "epoch : 0, Train iter : 63 / 63, Loss : 2.9028, Acc : 10.96% | 219 / 1999\n",
            "Train epoch : 0, Loss : 2.9028, Acc : 10.96% | 219 / 1999\n",
            "Saving..\n",
            "Test epoch : 0, Loss : 4.4440, Acc : 13.00% | 52 / 400\n",
            "epoch : 1, Train iter : 9 / 63, Loss : 2.6221, Acc : 18.40% | 53 / 288\n",
            "epoch : 1, Train iter : 18 / 63, Loss : 2.5893, Acc : 18.75% | 108 / 576\n",
            "epoch : 1, Train iter : 27 / 63, Loss : 2.5956, Acc : 18.29% | 158 / 864\n",
            "epoch : 1, Train iter : 36 / 63, Loss : 2.5803, Acc : 19.18% | 221 / 1152\n",
            "epoch : 1, Train iter : 45 / 63, Loss : 2.5653, Acc : 20.00% | 288 / 1440\n",
            "epoch : 1, Train iter : 54 / 63, Loss : 2.5837, Acc : 19.62% | 339 / 1728\n",
            "epoch : 1, Train iter : 63 / 63, Loss : 2.5930, Acc : 19.31% | 386 / 1999\n",
            "Train epoch : 1, Loss : 2.5930, Acc : 19.31% | 386 / 1999\n",
            "Saving..\n",
            "Test epoch : 1, Loss : 4.6699, Acc : 15.25% | 61 / 400\n",
            "epoch : 2, Train iter : 9 / 63, Loss : 2.5423, Acc : 21.18% | 61 / 288\n",
            "epoch : 2, Train iter : 18 / 63, Loss : 2.5292, Acc : 22.92% | 132 / 576\n",
            "epoch : 2, Train iter : 27 / 63, Loss : 2.4792, Acc : 23.38% | 202 / 864\n",
            "epoch : 2, Train iter : 36 / 63, Loss : 2.4847, Acc : 23.61% | 272 / 1152\n",
            "epoch : 2, Train iter : 45 / 63, Loss : 2.4416, Acc : 23.61% | 340 / 1440\n",
            "epoch : 2, Train iter : 54 / 63, Loss : 2.4112, Acc : 24.88% | 430 / 1728\n",
            "epoch : 2, Train iter : 63 / 63, Loss : 2.4183, Acc : 24.61% | 492 / 1999\n",
            "Train epoch : 2, Loss : 2.4183, Acc : 24.61% | 492 / 1999\n",
            "Saving..\n",
            "Test epoch : 2, Loss : 2.3737, Acc : 22.50% | 90 / 400\n",
            "epoch : 3, Train iter : 9 / 63, Loss : 2.2404, Acc : 26.74% | 77 / 288\n",
            "epoch : 3, Train iter : 18 / 63, Loss : 2.2470, Acc : 27.95% | 161 / 576\n",
            "epoch : 3, Train iter : 27 / 63, Loss : 2.2542, Acc : 27.20% | 235 / 864\n",
            "epoch : 3, Train iter : 36 / 63, Loss : 2.2476, Acc : 26.74% | 308 / 1152\n",
            "epoch : 3, Train iter : 45 / 63, Loss : 2.2095, Acc : 28.12% | 405 / 1440\n",
            "epoch : 3, Train iter : 54 / 63, Loss : 2.2061, Acc : 28.41% | 491 / 1728\n",
            "epoch : 3, Train iter : 63 / 63, Loss : 2.1997, Acc : 28.96% | 579 / 1999\n",
            "Train epoch : 3, Loss : 2.1997, Acc : 28.96% | 579 / 1999\n",
            "Saving..\n",
            "Test epoch : 3, Loss : 2.4959, Acc : 25.25% | 101 / 400\n",
            "epoch : 4, Train iter : 9 / 63, Loss : 2.0595, Acc : 30.21% | 87 / 288\n",
            "epoch : 4, Train iter : 18 / 63, Loss : 2.0488, Acc : 33.16% | 191 / 576\n",
            "epoch : 4, Train iter : 27 / 63, Loss : 2.0567, Acc : 34.03% | 294 / 864\n",
            "epoch : 4, Train iter : 36 / 63, Loss : 2.0695, Acc : 33.51% | 386 / 1152\n",
            "epoch : 4, Train iter : 45 / 63, Loss : 2.0396, Acc : 33.96% | 489 / 1440\n",
            "epoch : 4, Train iter : 54 / 63, Loss : 2.0458, Acc : 33.80% | 584 / 1728\n",
            "epoch : 4, Train iter : 63 / 63, Loss : 2.0458, Acc : 34.12% | 682 / 1999\n",
            "Train epoch : 4, Loss : 2.0458, Acc : 34.12% | 682 / 1999\n",
            "Saving..\n",
            "Test epoch : 4, Loss : 2.9522, Acc : 27.75% | 111 / 400\n",
            "epoch : 5, Train iter : 9 / 63, Loss : 1.8752, Acc : 42.71% | 123 / 288\n",
            "epoch : 5, Train iter : 18 / 63, Loss : 1.8388, Acc : 40.97% | 236 / 576\n",
            "epoch : 5, Train iter : 27 / 63, Loss : 1.8766, Acc : 40.05% | 346 / 864\n",
            "epoch : 5, Train iter : 36 / 63, Loss : 1.8703, Acc : 40.45% | 466 / 1152\n",
            "epoch : 5, Train iter : 45 / 63, Loss : 1.8628, Acc : 39.86% | 574 / 1440\n",
            "epoch : 5, Train iter : 54 / 63, Loss : 1.8770, Acc : 40.34% | 697 / 1728\n",
            "epoch : 5, Train iter : 63 / 63, Loss : 1.8741, Acc : 39.67% | 793 / 1999\n",
            "Train epoch : 5, Loss : 1.8741, Acc : 39.67% | 793 / 1999\n",
            "Saving..\n",
            "Test epoch : 5, Loss : 2.4038, Acc : 29.50% | 118 / 400\n",
            "epoch : 6, Train iter : 9 / 63, Loss : 1.9085, Acc : 40.28% | 116 / 288\n",
            "epoch : 6, Train iter : 18 / 63, Loss : 1.8982, Acc : 38.89% | 224 / 576\n",
            "epoch : 6, Train iter : 27 / 63, Loss : 1.8631, Acc : 39.70% | 343 / 864\n",
            "epoch : 6, Train iter : 36 / 63, Loss : 1.8159, Acc : 40.89% | 471 / 1152\n",
            "epoch : 6, Train iter : 45 / 63, Loss : 1.7985, Acc : 41.88% | 603 / 1440\n",
            "epoch : 6, Train iter : 54 / 63, Loss : 1.7900, Acc : 42.01% | 726 / 1728\n",
            "epoch : 6, Train iter : 63 / 63, Loss : 1.7982, Acc : 41.82% | 836 / 1999\n",
            "Train epoch : 6, Loss : 1.7982, Acc : 41.82% | 836 / 1999\n",
            "Saving..\n",
            "Test epoch : 6, Loss : 2.3392, Acc : 34.00% | 136 / 400\n",
            "epoch : 7, Train iter : 9 / 63, Loss : 1.6918, Acc : 46.18% | 133 / 288\n",
            "epoch : 7, Train iter : 18 / 63, Loss : 1.6802, Acc : 45.83% | 264 / 576\n",
            "epoch : 7, Train iter : 27 / 63, Loss : 1.7365, Acc : 44.44% | 384 / 864\n",
            "epoch : 7, Train iter : 36 / 63, Loss : 1.7691, Acc : 43.84% | 505 / 1152\n",
            "epoch : 7, Train iter : 45 / 63, Loss : 1.7626, Acc : 42.99% | 619 / 1440\n",
            "epoch : 7, Train iter : 54 / 63, Loss : 1.7348, Acc : 43.87% | 758 / 1728\n",
            "epoch : 7, Train iter : 63 / 63, Loss : 1.7340, Acc : 44.22% | 884 / 1999\n",
            "Train epoch : 7, Loss : 1.7340, Acc : 44.22% | 884 / 1999\n",
            "Saving..\n",
            "Test epoch : 7, Loss : 1.9964, Acc : 38.25% | 153 / 400\n",
            "epoch : 8, Train iter : 9 / 63, Loss : 1.4495, Acc : 51.74% | 149 / 288\n",
            "epoch : 8, Train iter : 18 / 63, Loss : 1.4995, Acc : 50.87% | 293 / 576\n",
            "epoch : 8, Train iter : 27 / 63, Loss : 1.4760, Acc : 52.43% | 453 / 864\n",
            "epoch : 8, Train iter : 36 / 63, Loss : 1.5048, Acc : 51.56% | 594 / 1152\n",
            "epoch : 8, Train iter : 45 / 63, Loss : 1.5095, Acc : 51.25% | 738 / 1440\n",
            "epoch : 8, Train iter : 54 / 63, Loss : 1.5364, Acc : 50.93% | 880 / 1728\n",
            "epoch : 8, Train iter : 63 / 63, Loss : 1.5727, Acc : 49.67% | 993 / 1999\n",
            "Train epoch : 8, Loss : 1.5727, Acc : 49.67% | 993 / 1999\n",
            "Test epoch : 8, Loss : 2.3745, Acc : 34.25% | 137 / 400\n",
            "epoch : 9, Train iter : 9 / 63, Loss : 1.5213, Acc : 49.65% | 143 / 288\n",
            "epoch : 9, Train iter : 18 / 63, Loss : 1.4726, Acc : 51.56% | 297 / 576\n",
            "epoch : 9, Train iter : 27 / 63, Loss : 1.5069, Acc : 50.93% | 440 / 864\n",
            "epoch : 9, Train iter : 36 / 63, Loss : 1.4952, Acc : 51.39% | 592 / 1152\n",
            "epoch : 9, Train iter : 45 / 63, Loss : 1.4963, Acc : 51.25% | 738 / 1440\n",
            "epoch : 9, Train iter : 54 / 63, Loss : 1.5120, Acc : 50.41% | 871 / 1728\n",
            "epoch : 9, Train iter : 63 / 63, Loss : 1.5025, Acc : 50.88% | 1017 / 1999\n",
            "Train epoch : 9, Loss : 1.5025, Acc : 50.88% | 1017 / 1999\n",
            "Test epoch : 9, Loss : 2.9162, Acc : 37.00% | 148 / 400\n",
            "epoch : 10, Train iter : 9 / 63, Loss : 1.3615, Acc : 55.90% | 161 / 288\n",
            "epoch : 10, Train iter : 18 / 63, Loss : 1.3278, Acc : 58.16% | 335 / 576\n",
            "epoch : 10, Train iter : 27 / 63, Loss : 1.3370, Acc : 57.29% | 495 / 864\n",
            "epoch : 10, Train iter : 36 / 63, Loss : 1.3695, Acc : 55.82% | 643 / 1152\n",
            "epoch : 10, Train iter : 45 / 63, Loss : 1.3767, Acc : 55.49% | 799 / 1440\n",
            "epoch : 10, Train iter : 54 / 63, Loss : 1.3906, Acc : 54.98% | 950 / 1728\n",
            "epoch : 10, Train iter : 63 / 63, Loss : 1.3905, Acc : 55.23% | 1104 / 1999\n",
            "Train epoch : 10, Loss : 1.3905, Acc : 55.23% | 1104 / 1999\n",
            "Saving..\n",
            "Test epoch : 10, Loss : 1.9098, Acc : 42.25% | 169 / 400\n",
            "epoch : 11, Train iter : 9 / 63, Loss : 1.2219, Acc : 60.42% | 174 / 288\n",
            "epoch : 11, Train iter : 18 / 63, Loss : 1.2105, Acc : 60.07% | 346 / 576\n",
            "epoch : 11, Train iter : 27 / 63, Loss : 1.2240, Acc : 59.61% | 515 / 864\n",
            "epoch : 11, Train iter : 36 / 63, Loss : 1.2133, Acc : 60.24% | 694 / 1152\n",
            "epoch : 11, Train iter : 45 / 63, Loss : 1.2234, Acc : 59.72% | 860 / 1440\n",
            "epoch : 11, Train iter : 54 / 63, Loss : 1.2449, Acc : 59.55% | 1029 / 1728\n",
            "epoch : 11, Train iter : 63 / 63, Loss : 1.2829, Acc : 58.63% | 1172 / 1999\n",
            "Train epoch : 11, Loss : 1.2829, Acc : 58.63% | 1172 / 1999\n",
            "Test epoch : 11, Loss : 2.5160, Acc : 39.50% | 158 / 400\n",
            "epoch : 12, Train iter : 9 / 63, Loss : 1.2250, Acc : 61.11% | 176 / 288\n",
            "epoch : 12, Train iter : 18 / 63, Loss : 1.1893, Acc : 62.15% | 358 / 576\n",
            "epoch : 12, Train iter : 27 / 63, Loss : 1.1640, Acc : 61.57% | 532 / 864\n",
            "epoch : 12, Train iter : 36 / 63, Loss : 1.1169, Acc : 63.28% | 729 / 1152\n",
            "epoch : 12, Train iter : 45 / 63, Loss : 1.1408, Acc : 62.29% | 897 / 1440\n",
            "epoch : 12, Train iter : 54 / 63, Loss : 1.1783, Acc : 61.46% | 1062 / 1728\n",
            "epoch : 12, Train iter : 63 / 63, Loss : 1.1770, Acc : 61.63% | 1232 / 1999\n",
            "Train epoch : 12, Loss : 1.1770, Acc : 61.63% | 1232 / 1999\n",
            "Test epoch : 12, Loss : 2.2170, Acc : 41.75% | 167 / 400\n",
            "epoch : 13, Train iter : 9 / 63, Loss : 1.0789, Acc : 65.62% | 189 / 288\n",
            "epoch : 13, Train iter : 18 / 63, Loss : 1.0495, Acc : 66.49% | 383 / 576\n",
            "epoch : 13, Train iter : 27 / 63, Loss : 1.0438, Acc : 65.05% | 562 / 864\n",
            "epoch : 13, Train iter : 36 / 63, Loss : 0.9956, Acc : 66.84% | 770 / 1152\n",
            "epoch : 13, Train iter : 45 / 63, Loss : 0.9876, Acc : 67.01% | 965 / 1440\n",
            "epoch : 13, Train iter : 54 / 63, Loss : 0.9903, Acc : 66.67% | 1152 / 1728\n",
            "epoch : 13, Train iter : 63 / 63, Loss : 0.9900, Acc : 66.53% | 1330 / 1999\n",
            "Train epoch : 13, Loss : 0.9900, Acc : 66.53% | 1330 / 1999\n",
            "Test epoch : 13, Loss : 2.6151, Acc : 39.50% | 158 / 400\n",
            "epoch : 14, Train iter : 9 / 63, Loss : 0.8840, Acc : 70.14% | 202 / 288\n",
            "epoch : 14, Train iter : 18 / 63, Loss : 0.8388, Acc : 72.22% | 416 / 576\n",
            "epoch : 14, Train iter : 27 / 63, Loss : 0.8771, Acc : 70.83% | 612 / 864\n",
            "epoch : 14, Train iter : 36 / 63, Loss : 0.9058, Acc : 71.01% | 818 / 1152\n",
            "epoch : 14, Train iter : 45 / 63, Loss : 0.9174, Acc : 70.76% | 1019 / 1440\n",
            "epoch : 14, Train iter : 54 / 63, Loss : 0.9284, Acc : 70.78% | 1223 / 1728\n",
            "epoch : 14, Train iter : 63 / 63, Loss : 0.9406, Acc : 70.49% | 1409 / 1999\n",
            "Train epoch : 14, Loss : 0.9406, Acc : 70.49% | 1409 / 1999\n",
            "Test epoch : 14, Loss : 2.7915, Acc : 37.50% | 150 / 400\n",
            "epoch : 15, Train iter : 9 / 63, Loss : 0.9921, Acc : 69.44% | 200 / 288\n",
            "epoch : 15, Train iter : 18 / 63, Loss : 0.9662, Acc : 67.71% | 390 / 576\n",
            "epoch : 15, Train iter : 27 / 63, Loss : 0.9055, Acc : 70.60% | 610 / 864\n",
            "epoch : 15, Train iter : 36 / 63, Loss : 0.8826, Acc : 71.18% | 820 / 1152\n",
            "epoch : 15, Train iter : 45 / 63, Loss : 0.8609, Acc : 71.88% | 1035 / 1440\n",
            "epoch : 15, Train iter : 54 / 63, Loss : 0.8719, Acc : 71.59% | 1237 / 1728\n",
            "epoch : 15, Train iter : 63 / 63, Loss : 0.8776, Acc : 71.74% | 1434 / 1999\n",
            "Train epoch : 15, Loss : 0.8776, Acc : 71.74% | 1434 / 1999\n",
            "Saving..\n",
            "Test epoch : 15, Loss : 1.7231, Acc : 51.50% | 206 / 400\n",
            "epoch : 16, Train iter : 9 / 63, Loss : 0.7096, Acc : 79.17% | 228 / 288\n",
            "epoch : 16, Train iter : 18 / 63, Loss : 0.6798, Acc : 79.69% | 459 / 576\n",
            "epoch : 16, Train iter : 27 / 63, Loss : 0.6821, Acc : 80.09% | 692 / 864\n",
            "epoch : 16, Train iter : 36 / 63, Loss : 0.6815, Acc : 79.43% | 915 / 1152\n",
            "epoch : 16, Train iter : 45 / 63, Loss : 0.6933, Acc : 78.19% | 1126 / 1440\n",
            "epoch : 16, Train iter : 54 / 63, Loss : 0.7064, Acc : 77.66% | 1342 / 1728\n",
            "epoch : 16, Train iter : 63 / 63, Loss : 0.7123, Acc : 77.44% | 1548 / 1999\n",
            "Train epoch : 16, Loss : 0.7123, Acc : 77.44% | 1548 / 1999\n",
            "Test epoch : 16, Loss : 1.5722, Acc : 50.75% | 203 / 400\n",
            "epoch : 17, Train iter : 9 / 63, Loss : 0.5853, Acc : 80.90% | 233 / 288\n",
            "epoch : 17, Train iter : 18 / 63, Loss : 0.6141, Acc : 80.90% | 466 / 576\n",
            "epoch : 17, Train iter : 27 / 63, Loss : 0.5884, Acc : 81.02% | 700 / 864\n",
            "epoch : 17, Train iter : 36 / 63, Loss : 0.5781, Acc : 81.16% | 935 / 1152\n",
            "epoch : 17, Train iter : 45 / 63, Loss : 0.5847, Acc : 80.97% | 1166 / 1440\n",
            "epoch : 17, Train iter : 54 / 63, Loss : 0.5911, Acc : 80.90% | 1398 / 1728\n",
            "epoch : 17, Train iter : 63 / 63, Loss : 0.6018, Acc : 80.49% | 1609 / 1999\n",
            "Train epoch : 17, Loss : 0.6018, Acc : 80.49% | 1609 / 1999\n",
            "Test epoch : 17, Loss : 2.0583, Acc : 51.00% | 204 / 400\n",
            "epoch : 18, Train iter : 9 / 63, Loss : 0.4737, Acc : 85.07% | 245 / 288\n",
            "epoch : 18, Train iter : 18 / 63, Loss : 0.4653, Acc : 85.07% | 490 / 576\n",
            "epoch : 18, Train iter : 27 / 63, Loss : 0.4609, Acc : 85.07% | 735 / 864\n",
            "epoch : 18, Train iter : 36 / 63, Loss : 0.4705, Acc : 84.72% | 976 / 1152\n",
            "epoch : 18, Train iter : 45 / 63, Loss : 0.4662, Acc : 84.79% | 1221 / 1440\n",
            "epoch : 18, Train iter : 54 / 63, Loss : 0.4624, Acc : 85.36% | 1475 / 1728\n",
            "epoch : 18, Train iter : 63 / 63, Loss : 0.4831, Acc : 84.94% | 1698 / 1999\n",
            "Train epoch : 18, Loss : 0.4831, Acc : 84.94% | 1698 / 1999\n",
            "Saving..\n",
            "Test epoch : 18, Loss : 1.9065, Acc : 51.75% | 207 / 400\n",
            "epoch : 19, Train iter : 9 / 63, Loss : 0.4106, Acc : 87.85% | 253 / 288\n",
            "epoch : 19, Train iter : 18 / 63, Loss : 0.4287, Acc : 87.67% | 505 / 576\n",
            "epoch : 19, Train iter : 27 / 63, Loss : 0.4265, Acc : 87.27% | 754 / 864\n",
            "epoch : 19, Train iter : 36 / 63, Loss : 0.4173, Acc : 87.59% | 1009 / 1152\n",
            "epoch : 19, Train iter : 45 / 63, Loss : 0.4197, Acc : 88.06% | 1268 / 1440\n",
            "epoch : 19, Train iter : 54 / 63, Loss : 0.4186, Acc : 87.96% | 1520 / 1728\n",
            "epoch : 19, Train iter : 63 / 63, Loss : 0.4175, Acc : 87.94% | 1758 / 1999\n",
            "Train epoch : 19, Loss : 0.4175, Acc : 87.94% | 1758 / 1999\n",
            "Saving..\n",
            "Test epoch : 19, Loss : 1.6013, Acc : 53.25% | 213 / 400\n",
            "epoch : 20, Train iter : 9 / 63, Loss : 0.2680, Acc : 95.14% | 274 / 288\n",
            "epoch : 20, Train iter : 18 / 63, Loss : 0.3222, Acc : 92.53% | 533 / 576\n",
            "epoch : 20, Train iter : 27 / 63, Loss : 0.3147, Acc : 93.06% | 804 / 864\n",
            "epoch : 20, Train iter : 36 / 63, Loss : 0.3044, Acc : 92.97% | 1071 / 1152\n",
            "epoch : 20, Train iter : 45 / 63, Loss : 0.3152, Acc : 92.08% | 1326 / 1440\n",
            "epoch : 20, Train iter : 54 / 63, Loss : 0.3216, Acc : 92.01% | 1590 / 1728\n",
            "epoch : 20, Train iter : 63 / 63, Loss : 0.3311, Acc : 91.75% | 1834 / 1999\n",
            "Train epoch : 20, Loss : 0.3311, Acc : 91.75% | 1834 / 1999\n",
            "Saving..\n",
            "Test epoch : 20, Loss : 1.4827, Acc : 55.00% | 220 / 400\n",
            "epoch : 21, Train iter : 9 / 63, Loss : 0.2620, Acc : 94.79% | 273 / 288\n",
            "epoch : 21, Train iter : 18 / 63, Loss : 0.2608, Acc : 94.44% | 544 / 576\n",
            "epoch : 21, Train iter : 27 / 63, Loss : 0.2688, Acc : 94.33% | 815 / 864\n",
            "epoch : 21, Train iter : 36 / 63, Loss : 0.2722, Acc : 93.75% | 1080 / 1152\n",
            "epoch : 21, Train iter : 45 / 63, Loss : 0.2779, Acc : 93.06% | 1340 / 1440\n",
            "epoch : 21, Train iter : 54 / 63, Loss : 0.2857, Acc : 92.77% | 1603 / 1728\n",
            "epoch : 21, Train iter : 63 / 63, Loss : 0.2902, Acc : 92.70% | 1853 / 1999\n",
            "Train epoch : 21, Loss : 0.2902, Acc : 92.70% | 1853 / 1999\n",
            "Test epoch : 21, Loss : 1.4977, Acc : 55.00% | 220 / 400\n",
            "epoch : 22, Train iter : 9 / 63, Loss : 0.2047, Acc : 96.18% | 277 / 288\n",
            "epoch : 22, Train iter : 18 / 63, Loss : 0.2143, Acc : 95.83% | 552 / 576\n",
            "epoch : 22, Train iter : 27 / 63, Loss : 0.2144, Acc : 96.18% | 831 / 864\n",
            "epoch : 22, Train iter : 36 / 63, Loss : 0.2170, Acc : 96.27% | 1109 / 1152\n",
            "epoch : 22, Train iter : 45 / 63, Loss : 0.2166, Acc : 95.97% | 1382 / 1440\n",
            "epoch : 22, Train iter : 54 / 63, Loss : 0.2133, Acc : 96.18% | 1662 / 1728\n",
            "epoch : 22, Train iter : 63 / 63, Loss : 0.2172, Acc : 96.10% | 1921 / 1999\n",
            "Train epoch : 22, Loss : 0.2172, Acc : 96.10% | 1921 / 1999\n",
            "Saving..\n",
            "Test epoch : 22, Loss : 1.3799, Acc : 58.50% | 234 / 400\n",
            "epoch : 23, Train iter : 9 / 63, Loss : 0.2028, Acc : 94.44% | 272 / 288\n",
            "epoch : 23, Train iter : 18 / 63, Loss : 0.2216, Acc : 93.75% | 540 / 576\n",
            "epoch : 23, Train iter : 27 / 63, Loss : 0.2048, Acc : 94.33% | 815 / 864\n",
            "epoch : 23, Train iter : 36 / 63, Loss : 0.2088, Acc : 94.79% | 1092 / 1152\n",
            "epoch : 23, Train iter : 45 / 63, Loss : 0.1969, Acc : 95.28% | 1372 / 1440\n",
            "epoch : 23, Train iter : 54 / 63, Loss : 0.1906, Acc : 95.66% | 1653 / 1728\n",
            "epoch : 23, Train iter : 63 / 63, Loss : 0.1925, Acc : 95.50% | 1909 / 1999\n",
            "Train epoch : 23, Loss : 0.1925, Acc : 95.50% | 1909 / 1999\n",
            "Test epoch : 23, Loss : 1.4398, Acc : 57.50% | 230 / 400\n",
            "epoch : 24, Train iter : 9 / 63, Loss : 0.1573, Acc : 98.26% | 283 / 288\n",
            "epoch : 24, Train iter : 18 / 63, Loss : 0.1474, Acc : 98.26% | 566 / 576\n",
            "epoch : 24, Train iter : 27 / 63, Loss : 0.1428, Acc : 98.38% | 850 / 864\n",
            "epoch : 24, Train iter : 36 / 63, Loss : 0.1514, Acc : 97.83% | 1127 / 1152\n",
            "epoch : 24, Train iter : 45 / 63, Loss : 0.1495, Acc : 97.99% | 1411 / 1440\n",
            "epoch : 24, Train iter : 54 / 63, Loss : 0.1492, Acc : 97.86% | 1691 / 1728\n",
            "epoch : 24, Train iter : 63 / 63, Loss : 0.1571, Acc : 97.75% | 1954 / 1999\n",
            "Train epoch : 24, Loss : 0.1571, Acc : 97.75% | 1954 / 1999\n",
            "Saving..\n",
            "Test epoch : 24, Loss : 1.3874, Acc : 60.25% | 241 / 400\n",
            "epoch : 25, Train iter : 9 / 63, Loss : 0.1434, Acc : 98.26% | 283 / 288\n",
            "epoch : 25, Train iter : 18 / 63, Loss : 0.1336, Acc : 98.78% | 569 / 576\n",
            "epoch : 25, Train iter : 27 / 63, Loss : 0.1318, Acc : 98.50% | 851 / 864\n",
            "epoch : 25, Train iter : 36 / 63, Loss : 0.1449, Acc : 98.09% | 1130 / 1152\n",
            "epoch : 25, Train iter : 45 / 63, Loss : 0.1377, Acc : 98.33% | 1416 / 1440\n",
            "epoch : 25, Train iter : 54 / 63, Loss : 0.1382, Acc : 98.44% | 1701 / 1728\n",
            "epoch : 25, Train iter : 63 / 63, Loss : 0.1379, Acc : 98.35% | 1966 / 1999\n",
            "Train epoch : 25, Loss : 0.1379, Acc : 98.35% | 1966 / 1999\n",
            "Saving..\n",
            "Test epoch : 25, Loss : 1.3321, Acc : 62.00% | 248 / 400\n",
            "epoch : 26, Train iter : 9 / 63, Loss : 0.1334, Acc : 98.61% | 284 / 288\n",
            "epoch : 26, Train iter : 18 / 63, Loss : 0.1221, Acc : 98.78% | 569 / 576\n",
            "epoch : 26, Train iter : 27 / 63, Loss : 0.1211, Acc : 98.96% | 855 / 864\n",
            "epoch : 26, Train iter : 36 / 63, Loss : 0.1233, Acc : 98.61% | 1136 / 1152\n",
            "epoch : 26, Train iter : 45 / 63, Loss : 0.1195, Acc : 98.82% | 1423 / 1440\n",
            "epoch : 26, Train iter : 54 / 63, Loss : 0.1171, Acc : 98.90% | 1709 / 1728\n",
            "epoch : 26, Train iter : 63 / 63, Loss : 0.1187, Acc : 98.85% | 1976 / 1999\n",
            "Train epoch : 26, Loss : 0.1187, Acc : 98.85% | 1976 / 1999\n",
            "Test epoch : 26, Loss : 1.3555, Acc : 59.25% | 237 / 400\n",
            "epoch : 27, Train iter : 9 / 63, Loss : 0.1165, Acc : 99.31% | 286 / 288\n",
            "epoch : 27, Train iter : 18 / 63, Loss : 0.1095, Acc : 99.65% | 574 / 576\n",
            "epoch : 27, Train iter : 27 / 63, Loss : 0.1103, Acc : 99.42% | 859 / 864\n",
            "epoch : 27, Train iter : 36 / 63, Loss : 0.1103, Acc : 99.22% | 1143 / 1152\n",
            "epoch : 27, Train iter : 45 / 63, Loss : 0.1107, Acc : 99.17% | 1428 / 1440\n",
            "epoch : 27, Train iter : 54 / 63, Loss : 0.1103, Acc : 99.07% | 1712 / 1728\n",
            "epoch : 27, Train iter : 63 / 63, Loss : 0.1113, Acc : 99.00% | 1979 / 1999\n",
            "Train epoch : 27, Loss : 0.1113, Acc : 99.00% | 1979 / 1999\n",
            "Test epoch : 27, Loss : 1.3538, Acc : 61.75% | 247 / 400\n",
            "epoch : 28, Train iter : 9 / 63, Loss : 0.1179, Acc : 98.61% | 284 / 288\n",
            "epoch : 28, Train iter : 18 / 63, Loss : 0.1105, Acc : 98.61% | 568 / 576\n",
            "epoch : 28, Train iter : 27 / 63, Loss : 0.1140, Acc : 98.73% | 853 / 864\n",
            "epoch : 28, Train iter : 36 / 63, Loss : 0.1123, Acc : 98.70% | 1137 / 1152\n",
            "epoch : 28, Train iter : 45 / 63, Loss : 0.1127, Acc : 98.47% | 1418 / 1440\n",
            "epoch : 28, Train iter : 54 / 63, Loss : 0.1165, Acc : 98.44% | 1701 / 1728\n",
            "epoch : 28, Train iter : 63 / 63, Loss : 0.1226, Acc : 98.25% | 1964 / 1999\n",
            "Train epoch : 28, Loss : 0.1226, Acc : 98.25% | 1964 / 1999\n",
            "Test epoch : 28, Loss : 1.3637, Acc : 61.50% | 246 / 400\n",
            "epoch : 29, Train iter : 9 / 63, Loss : 0.1085, Acc : 98.26% | 283 / 288\n",
            "epoch : 29, Train iter : 18 / 63, Loss : 0.1256, Acc : 97.74% | 563 / 576\n",
            "epoch : 29, Train iter : 27 / 63, Loss : 0.1257, Acc : 97.80% | 845 / 864\n",
            "epoch : 29, Train iter : 36 / 63, Loss : 0.1214, Acc : 98.00% | 1129 / 1152\n",
            "epoch : 29, Train iter : 45 / 63, Loss : 0.1182, Acc : 98.19% | 1414 / 1440\n",
            "epoch : 29, Train iter : 54 / 63, Loss : 0.1124, Acc : 98.38% | 1700 / 1728\n",
            "epoch : 29, Train iter : 63 / 63, Loss : 0.1181, Acc : 98.30% | 1965 / 1999\n",
            "Train epoch : 29, Loss : 0.1181, Acc : 98.30% | 1965 / 1999\n",
            "Test epoch : 29, Loss : 1.3298, Acc : 60.75% | 243 / 400\n"
          ]
        }
      ]
    },
    {
      "cell_type": "code",
      "metadata": {
        "colab": {
          "base_uri": "https://localhost:8080/",
          "height": 606
        },
        "id": "YvvPPrMNwHZ7",
        "outputId": "91de1db4-54cc-46d6-f403-895b25d15068"
      },
      "source": [
        "#visualize metric\n",
        "import matplotlib.pyplot as plt\n",
        "\n",
        "fig = plt.figure(figsize=(10, 10))\n",
        "ax1 = fig.add_subplot(2, 1, 1)\n",
        "ax2 = fig.add_subplot(2, 1, 2)\n",
        "\n",
        "x = [i for i in range(1, epochs+1)]\n",
        "\n",
        "ax1.plot(x, train_loss_list, 'b--')\n",
        "ax1.plot(x, test_loss_list, 'r--')\n",
        "ax1.set_xlabel('epoch')\n",
        "ax1.set_ylabel('loss')\n",
        "ax1.legend(['train', 'test'])\n",
        "ax1.set_xticks(x)\n",
        "for i, v in enumerate(x):\n",
        "    if (i+1)%5==0: ax1.text(v, train_loss_list[i], \"{:0.5f}\".format(train_loss_list[i]), fontsize = 9, color='blue', horizontalalignment='center', verticalalignment='top')\n",
        "for i, v in enumerate(x):\n",
        "    if (i+1)%5==0: ax1.text(v, test_loss_list[i], \"{:0.5f}\".format(test_loss_list[i]), fontsize = 9, color='red', horizontalalignment='center', verticalalignment='bottom')\n",
        "\n",
        "\n",
        "ax2.plot(x, train_acc_list, 'b--')\n",
        "ax2.plot(x, test_acc_list, 'r--')\n",
        "ax2.set_xlabel('epoch')\n",
        "ax2.set_ylabel('accuracy')\n",
        "ax2.legend(['train', 'test'])\n",
        "ax2.set_xticks(x)\n",
        "for i, v in enumerate(x):\n",
        "    if (i+1)%5==0: ax2.text(v, train_acc_list[i], \"{:0.5f}\".format(train_acc_list[i]), fontsize = 9, color='blue', horizontalalignment='center', verticalalignment='bottom')\n",
        "for i, v in enumerate(x):\n",
        "    if (i+1)%5==0: ax2.text(v, test_acc_list[i], \"{:0.5f}\".format(test_acc_list[i]), fontsize = 9, color='red', horizontalalignment='center', verticalalignment='top')\n",
        "\n",
        "plt.show()"
      ],
      "execution_count": null,
      "outputs": [
        {
          "output_type": "display_data",
          "data": {
            "text/plain": [
              "<Figure size 720x720 with 2 Axes>"
            ],
            "image/png": "[encoded data removed]"
          },
          "metadata": {
            "needs_background": "light"
          }
        }
      ]
    }
  ]
}