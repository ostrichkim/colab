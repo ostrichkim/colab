{
  "cells": [
    {
      "cell_type": "markdown",
      "metadata": {
        "id": "view-in-github",
        "colab_type": "text"
      },
      "source": [
        "<a href=\"https://colab.research.google.com/github/ostrichkim/colab/blob/main/assignment_resnet50.ipynb\" target=\"_parent\"><img src=\"https://colab.research.google.com/assets/colab-badge.svg\" alt=\"Open In Colab\"/></a>"
      ]
    },
    {
      "cell_type": "markdown",
      "metadata": {
        "id": "BYHRY6ZXXuOH"
      },
      "source": [
        "# 시작"
      ]
    },
    {
      "cell_type": "code",
      "execution_count": 3,
      "metadata": {
        "colab": {
          "base_uri": "https://localhost:8080/"
        },
        "id": "VbNNNeShNQEJ",
        "outputId": "e47e2f25-f956-460b-be3f-23a044642ba4"
      },
      "outputs": [
        {
          "output_type": "stream",
          "name": "stdout",
          "text": [
            "Mounted at /content/drive\n"
          ]
        }
      ],
      "source": [
        "from google.colab import drive\n",
        "drive.mount('/content/drive')"
      ]
    },
    {
      "cell_type": "code",
      "execution_count": 4,
      "metadata": {
        "colab": {
          "base_uri": "https://localhost:8080/"
        },
        "id": "7Z9yiw3ANOay",
        "outputId": "c0896cc5-cc8c-4c9b-c6b5-27ab8e5aeaa5"
      },
      "outputs": [
        {
          "output_type": "stream",
          "name": "stdout",
          "text": [
            "'/content/drive/MyDrive/대학원수업/[수업]딥러닝/kuaicv_assingment-main/models' -> '/content/models'\n",
            "'/content/drive/MyDrive/대학원수업/[수업]딥러닝/kuaicv_assingment-main/models/resnet.py' -> '/content/models/resnet.py'\n",
            "'/content/drive/MyDrive/대학원수업/[수업]딥러닝/kuaicv_assingment-main/models/dla_simple.py' -> '/content/models/dla_simple.py'\n",
            "'/content/drive/MyDrive/대학원수업/[수업]딥러닝/kuaicv_assingment-main/models/MobileNetV2.py' -> '/content/models/MobileNetV2.py'\n",
            "'/content/drive/MyDrive/대학원수업/[수업]딥러닝/kuaicv_assingment-main/models/__init__.py' -> '/content/models/__init__.py'\n",
            "'/content/drive/MyDrive/대학원수업/[수업]딥러닝/kuaicv_assingment-main/utils.py' -> '/content/utils.py'\n"
          ]
        }
      ],
      "source": [
        "# copy folder\n",
        "%cp -av /content/drive/MyDrive/대학원수업/[수업]딥러닝/kuaicv_assingment-main/models /content/\n",
        "%cp -av /content/drive/MyDrive/대학원수업/[수업]딥러닝/kuaicv_assingment-main/utils.py /content/"
      ]
    },
    {
      "cell_type": "code",
      "execution_count": 5,
      "metadata": {
        "id": "mxbaygHhXuOI"
      },
      "outputs": [],
      "source": [
        "import torch\n",
        "import torch.nn as nn\n",
        "import torch.optim as optim\n",
        "import torch.nn.functional as F\n",
        "import torch.backends.cudnn as cudnn\n",
        "\n",
        "import torchvision\n",
        "import torchvision.transforms as transforms\n",
        "\n",
        "import os\n",
        "import argparse\n",
        "import random\n",
        "\n",
        "from models import *\n",
        "\n",
        "random.seed(1)"
      ]
    },
    {
      "cell_type": "code",
      "execution_count": 6,
      "metadata": {
        "id": "8M0jRyfaXuOJ"
      },
      "outputs": [],
      "source": [
        "device = 'cuda' if torch.cuda.is_available() else 'cpu'\n",
        "best_acc = 0  # best test accuracy\n",
        "start_epoch = 0  # start from epoch 0 or last checkpoint epoch"
      ]
    },
    {
      "cell_type": "code",
      "execution_count": 7,
      "metadata": {
        "id": "yo9Fm8oIXuOK"
      },
      "outputs": [],
      "source": [
        "img_size=90\n",
        "# img_size=112\n",
        "learning_rate = 0.0001\n",
        "epochs = 30\n",
        "weight_decay = 5e-4\n",
        "momentum = 0.9\n",
        "batch_size = 16\n",
        "num_workers = 2\n",
        "num_classes = 20"
      ]
    },
    {
      "cell_type": "code",
      "source": [
        "# Normalize with mean and std\n",
        "from torchvision.io import read_image\n",
        "from torchvision import datasets\n",
        "\n",
        "random.seed(1)\n",
        "# trainset = datasets.ImageFolder('/content/drive/MyDrive/대학원수업/[수업]딥러닝/kuaicv_assingment-main/train_data',\n",
        "#                  transform=transforms.ToTensor())\n",
        "trainset = datasets.ImageFolder('/content/drive/MyDrive/대학원수업/[수업]딥러닝/kuaicv_assingment-main/train_data_200',\n",
        "                 transform=transforms.ToTensor())\n",
        "testset = datasets.ImageFolder('/content/drive/MyDrive/대학원수업/[수업]딥러닝/kuaicv_assingment-main/test_data',\n",
        "                 transform=transforms.ToTensor())\n",
        "\n",
        "def get_mean_and_std(dataset):\n",
        "    '''Compute the mean and std value of dataset.'''\n",
        "    dataloader = torch.utils.data.DataLoader(dataset, batch_size=1, shuffle=True, num_workers=2)\n",
        "    mean = torch.zeros(3)\n",
        "    std = torch.zeros(3)\n",
        "    print('==> Computing mean and std..')\n",
        "    for inputs, targets in dataloader:\n",
        "        for i in range(3):\n",
        "            mean[i] += inputs[:,i,:,:].mean()\n",
        "            std[i] += inputs[:,i,:,:].std()\n",
        "    mean.div_(len(dataset))\n",
        "    std.div_(len(dataset))\n",
        "    return mean, std\n",
        "\n",
        "train_mean, train_std = get_mean_and_std(trainset)\n",
        "test_mean, test_std = get_mean_and_std(testset)\n",
        "print(train_mean, train_std, '\\n', test_mean, test_std)"
      ],
      "metadata": {
        "id": "UM-Vmv7Urmek",
        "outputId": "24f60ccb-8545-41bd-cb47-9974a6b54c99",
        "colab": {
          "base_uri": "https://localhost:8080/"
        }
      },
      "execution_count": null,
      "outputs": [
        {
          "output_type": "stream",
          "name": "stdout",
          "text": [
            "==> Computing mean and std..\n"
          ]
        }
      ]
    },
    {
      "cell_type": "code",
      "execution_count": null,
      "metadata": {
        "id": "fuC31uekXuOK",
        "scrolled": true
      },
      "outputs": [],
      "source": [
        "# Data\n",
        "print('==> Preparing data..')\n",
        "\n",
        "transform_train = transforms.Compose([\n",
        "    transforms.Resize((img_size, img_size)),\n",
        "    transforms.RandomHorizontalFlip(),\n",
        "    transforms.RandomRotation(90, expand=False),\n",
        "    transforms.ColorJitter(brightness=(0.2, 3)),\n",
        "    transforms.ToTensor(),\n",
        "    # transforms.Normalize((0.485, 0.456, 0.406), (0.229, 0.224, 0.225)), # ImageNet standard\n",
        "    transforms.Normalize(train_mean, train_std), # Customized mean and std\n",
        "])\n",
        "\n",
        "transform_test = transforms.Compose([\n",
        "    transforms.Resize((img_size, img_size)),\n",
        "    transforms.ToTensor(),\n",
        "    transforms.Normalize((0.485, 0.456, 0.406), (0.229, 0.224, 0.225)), # ImageNet standard\n",
        "    # transforms.Normalize(test_mean, test_std), # Customized mean and std\n",
        "])\n",
        "\n",
        "# trainset = torchvision.datasets.ImageFolder(root='/content/drive/MyDrive/대학원수업/[수업]딥러닝/kuaicv_assingment-main/train_data', transform=transform_train)\n",
        "trainset = torchvision.datasets.ImageFolder(root='/content/drive/MyDrive/대학원수업/[수업]딥러닝/kuaicv_assingment-main/train_data_200', transform=transform_train)\n",
        "trainloader = torch.utils.data.DataLoader(trainset, batch_size=batch_size, shuffle=True, num_workers=num_workers)\n",
        "\n",
        "testset = torchvision.datasets.ImageFolder(root='/content/drive/MyDrive/대학원수업/[수업]딥러닝/kuaicv_assingment-main/test_data', transform=transform_test)\n",
        "testloader = torch.utils.data.DataLoader(testset, batch_size=batch_size, shuffle=False, num_workers=num_workers)"
      ]
    },
    {
      "cell_type": "code",
      "execution_count": null,
      "metadata": {
        "id": "d5HGF2AlXuOL"
      },
      "outputs": [],
      "source": [
        "# Model\n",
        "print('==> Building model..')\n",
        "#net = MobileNetV2(num_classes)\n",
        "net = ResNet50(num_classes)\n",
        "#net = SimpleDLA(num_classes=num_classes)\n",
        "net = net.to(device)\n",
        "if device == 'cuda':\n",
        "    net = torch.nn.DataParallel(net)\n",
        "    cudnn.benchmark = True"
      ]
    },
    {
      "cell_type": "code",
      "execution_count": null,
      "metadata": {
        "id": "B5Z5u-UEXuOM"
      },
      "outputs": [],
      "source": [
        "# Adjust below codes if you want to train model continuously.\n",
        "if False: \n",
        "    # Load checkpoint.\n",
        "    print('==> Resuming from checkpoint..')\n",
        "    assert os.path.isdir('checkpoint'), 'Error: no checkpoint directory found!'\n",
        "    checkpoint = torch.load('./checkpoint/ckpt.pth')\n",
        "    net.load_state_dict(checkpoint['net'])\n",
        "    best_acc = checkpoint['acc']\n",
        "    start_epoch = checkpoint['epoch']"
      ]
    },
    {
      "cell_type": "code",
      "execution_count": null,
      "metadata": {
        "id": "6xLudfJVXuOM"
      },
      "outputs": [],
      "source": [
        "criterion = nn.CrossEntropyLoss()\n",
        "optimizer = optim.Adam(net.parameters(), lr=learning_rate, weight_decay=weight_decay)\n",
        "# optimizer = optim.SGD(net.parameters(), lr=learning_rate, momentum=momentum, weight_decay=weight_decay)\n",
        "scheduler = torch.optim.lr_scheduler.CosineAnnealingLR(optimizer, T_max=epochs)\n",
        "# scheduler = torch.optim.lr_scheduler.CosineAnnealingWarmRestarts(optimizer, T_0=epochs)\n",
        "# scheduler = torch.optim.lr_scheduler.ExponentialLR(optimizer, gamma=0.9)"
      ]
    },
    {
      "cell_type": "code",
      "execution_count": null,
      "metadata": {
        "id": "HSfRHXurXuON"
      },
      "outputs": [],
      "source": [
        "# Training\n",
        "train_loss_list = []\n",
        "test_loss_list = []\n",
        "train_acc_list = []\n",
        "test_acc_list = []\n",
        "\n",
        "def train(epoch):\n",
        "    net.train()\n",
        "    train_loss = 0\n",
        "    correct = 0\n",
        "    total = 0\n",
        "    for batch_idx, (inputs, targets) in enumerate(trainloader):\n",
        "        inputs, targets = inputs.to(device), targets.to(device)\n",
        "        optimizer.zero_grad()\n",
        "        outputs = net(inputs)\n",
        "        loss = criterion(outputs, targets)\n",
        "        loss.backward()\n",
        "        optimizer.step()\n",
        "\n",
        "        train_loss += loss.item()\n",
        "        _, predicted = outputs.max(1)\n",
        "        total += targets.size(0)\n",
        "        correct += predicted.eq(targets).sum().item()\n",
        "\n",
        "        if (batch_idx+1)%25==0:\n",
        "            print(\"epoch : {}, Train iter : {} / {}, Loss : {:.4f}, Acc : {:.2f}% | {} / {}\".format(\n",
        "                epoch, \n",
        "                batch_idx+1, len(trainloader), \n",
        "                train_loss/(batch_idx+1), \n",
        "                100.*correct/total, correct, total))\n",
        "\n",
        "    print(\"Train epoch : {}, Loss : {:.4f}, Acc : {:.2f}% | {} / {}\".format(\n",
        "        epoch, \n",
        "        train_loss/(batch_idx+1), \n",
        "        100.*correct/total, correct, total))\n",
        "    train_loss_list.append(train_loss/(batch_idx+1))\n",
        "    train_acc_list.append(100.*correct/total)\n",
        "\n",
        "# Testing\n",
        "def test(epoch):\n",
        "    global best_acc\n",
        "    net.eval()\n",
        "    test_loss = 0\n",
        "    correct = 0\n",
        "    total = 0\n",
        "    with torch.no_grad():\n",
        "        for batch_idx, (inputs, targets) in enumerate(testloader):\n",
        "            inputs, targets = inputs.to(device), targets.to(device)\n",
        "            outputs = net(inputs)\n",
        "            loss = criterion(outputs, targets)\n",
        "\n",
        "            test_loss += loss.item()\n",
        "            _, predicted = outputs.max(1)\n",
        "            total += targets.size(0)\n",
        "            correct += predicted.eq(targets).sum().item()\n",
        "\n",
        "    # Save checkpoint.\n",
        "    acc = 100.*correct/total\n",
        "    if acc > best_acc:\n",
        "        print('Saving..')\n",
        "        state = {\n",
        "            'net': net.state_dict(),\n",
        "            'acc': acc,\n",
        "            'epoch': epoch,\n",
        "        }\n",
        "        if not os.path.isdir('checkpoint'):\n",
        "            os.mkdir('checkpoint')\n",
        "        torch.save(state, './checkpoint/ckpt_{}.pth'.format(epoch))\n",
        "        best_acc = acc\n",
        "\n",
        "    print(\"Test epoch : {}, Loss : {:.4f}, Acc : {:.2f}% | {} / {}\".format(\n",
        "        epoch,\n",
        "        test_loss/(batch_idx+1), \n",
        "        100.*correct/total, correct, total))\n",
        "    test_loss_list.append(test_loss/(batch_idx+1))\n",
        "    test_acc_list.append(100.*correct/total)"
      ]
    },
    {
      "cell_type": "code",
      "execution_count": null,
      "metadata": {
        "id": "4jzwuKWMXuOO"
      },
      "outputs": [],
      "source": [
        "for epoch in range(epochs):\n",
        "    train(epoch)\n",
        "    test(epoch)\n",
        "    scheduler.step()"
      ]
    },
    {
      "cell_type": "code",
      "execution_count": null,
      "metadata": {
        "id": "ShLihRJdXuOO"
      },
      "outputs": [],
      "source": [
        "#visualize metric\n",
        "import matplotlib.pyplot as plt\n",
        "\n",
        "fig = plt.figure(figsize=(10, 10))\n",
        "ax1 = fig.add_subplot(2, 1, 1)\n",
        "ax2 = fig.add_subplot(2, 1, 2)\n",
        "\n",
        "x = [i for i in range(1, epochs+1)]\n",
        "\n",
        "ax1.plot(x, train_loss_list, 'b--')\n",
        "ax1.plot(x, test_loss_list, 'r--')\n",
        "ax1.set_xlabel('epoch')\n",
        "ax1.set_ylabel('loss')\n",
        "ax1.legend(['train', 'test'])\n",
        "ax1.set_xticks(x)\n",
        "for i, v in enumerate(x):\n",
        "    if (i+1)%5==0: ax1.text(v, train_loss_list[i], \"{:0.5f}\".format(train_loss_list[i]), fontsize = 9, color='blue', horizontalalignment='center', verticalalignment='top')\n",
        "for i, v in enumerate(x):\n",
        "    if (i+1)%5==0: ax1.text(v, test_loss_list[i], \"{:0.5f}\".format(test_loss_list[i]), fontsize = 9, color='red', horizontalalignment='center', verticalalignment='bottom')\n",
        "\n",
        "\n",
        "ax2.plot(x, train_acc_list, 'b--')\n",
        "ax2.plot(x, test_acc_list, 'r--')\n",
        "ax2.set_xlabel('epoch')\n",
        "ax2.set_ylabel('accuracy')\n",
        "ax2.legend(['train', 'test'])\n",
        "ax2.set_xticks(x)\n",
        "for i, v in enumerate(x):\n",
        "    if (i+1)%5==0: ax2.text(v, train_acc_list[i], \"{:0.5f}\".format(train_acc_list[i]), fontsize = 9, color='blue', horizontalalignment='center', verticalalignment='bottom')\n",
        "for i, v in enumerate(x):\n",
        "    if (i+1)%5==0: ax2.text(v, test_acc_list[i], \"{:0.5f}\".format(test_acc_list[i]), fontsize = 9, color='red', horizontalalignment='center', verticalalignment='top')\n",
        "\n",
        "plt.show()"
      ]
    }
  ],
  "metadata": {
    "accelerator": "GPU",
    "colab": {
      "collapsed_sections": [],
      "name": "assignment_resnet50.ipynb",
      "provenance": [],
      "machine_shape": "hm",
      "include_colab_link": true
    },
    "kernelspec": {
      "display_name": "Python 3",
      "language": "python",
      "name": "python3"
    },
    "language_info": {
      "codemirror_mode": {
        "name": "ipython",
        "version": 3
      },
      "file_extension": ".py",
      "mimetype": "text/x-python",
      "name": "python",
      "nbconvert_exporter": "python",
      "pygments_lexer": "ipython3",
      "version": "3.6.5"
    }
  },
  "nbformat": 4,
  "nbformat_minor": 0
}