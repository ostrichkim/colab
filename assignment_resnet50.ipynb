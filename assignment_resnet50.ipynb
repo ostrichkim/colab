{
  "cells": [
    {
      "cell_type": "markdown",
      "metadata": {
        "id": "view-in-github",
        "colab_type": "text"
      },
      "source": [
        "<a href=\"https://colab.research.google.com/github/ostrichkim/colab/blob/main/assignment_resnet50.ipynb\" target=\"_parent\"><img src=\"https://colab.research.google.com/assets/colab-badge.svg\" alt=\"Open In Colab\"/></a>"
      ]
    },
    {
      "cell_type": "markdown",
      "metadata": {
        "id": "BYHRY6ZXXuOH"
      },
      "source": [
        "# 시작"
      ]
    },
    {
      "cell_type": "code",
      "execution_count": 1,
      "metadata": {
        "colab": {
          "base_uri": "https://localhost:8080/"
        },
        "id": "VbNNNeShNQEJ",
        "outputId": "e90712db-7525-4954-b6aa-d832745fd32d"
      },
      "outputs": [
        {
          "output_type": "stream",
          "name": "stdout",
          "text": [
            "Mounted at /content/drive\n"
          ]
        }
      ],
      "source": [
        "from google.colab import drive\n",
        "drive.mount('/content/drive')"
      ]
    },
    {
      "cell_type": "code",
      "execution_count": 5,
      "metadata": {
        "colab": {
          "base_uri": "https://localhost:8080/"
        },
        "id": "7Z9yiw3ANOay",
        "outputId": "c043512e-a3dd-456c-e1b8-ece5cb9dd14e"
      },
      "outputs": [
        {
          "output_type": "stream",
          "name": "stdout",
          "text": [
            "'/content/drive/MyDrive/대학원수업/[수업]딥러닝/kuaicv_assingment-main/models/resnet.py' -> '/content/models/resnet.py'\n",
            "'/content/drive/MyDrive/대학원수업/[수업]딥러닝/kuaicv_assingment-main/models/dla_simple.py' -> '/content/models/dla_simple.py'\n",
            "'/content/drive/MyDrive/대학원수업/[수업]딥러닝/kuaicv_assingment-main/models/MobileNetV2.py' -> '/content/models/MobileNetV2.py'\n",
            "'/content/drive/MyDrive/대학원수업/[수업]딥러닝/kuaicv_assingment-main/models/__init__.py' -> '/content/models/__init__.py'\n",
            "'/content/drive/MyDrive/대학원수업/[수업]딥러닝/kuaicv_assingment-main/utils.py' -> '/content/utils.py'\n"
          ]
        }
      ],
      "source": [
        "# copy folder\n",
        "%cp -av /content/drive/MyDrive/대학원수업/[수업]딥러닝/kuaicv_assingment-main/models /content/\n",
        "%cp -av /content/drive/MyDrive/대학원수업/[수업]딥러닝/kuaicv_assingment-main/utils.py /content/"
      ]
    },
    {
      "cell_type": "code",
      "execution_count": 12,
      "metadata": {
        "id": "mxbaygHhXuOI"
      },
      "outputs": [],
      "source": [
        "import torch\n",
        "import torch.nn as nn\n",
        "import torch.optim as optim\n",
        "import torch.nn.functional as F\n",
        "import torch.backends.cudnn as cudnn\n",
        "\n",
        "import torchvision\n",
        "import torchvision.transforms as transforms\n",
        "\n",
        "import os\n",
        "import argparse\n",
        "\n",
        "from models import *"
      ]
    },
    {
      "cell_type": "code",
      "execution_count": 7,
      "metadata": {
        "id": "8M0jRyfaXuOJ"
      },
      "outputs": [],
      "source": [
        "device = 'cuda' if torch.cuda.is_available() else 'cpu'\n",
        "best_acc = 0  # best test accuracy\n",
        "start_epoch = 0  # start from epoch 0 or last checkpoint epoch"
      ]
    },
    {
      "cell_type": "code",
      "execution_count": 22,
      "metadata": {
        "id": "yo9Fm8oIXuOK"
      },
      "outputs": [],
      "source": [
        "img_size=112\n",
        "learning_rate = 0.0001\n",
        "epochs = 30\n",
        "weight_decay = 5e-4\n",
        "momentum = 0.9\n",
        "batch_size = 16\n",
        "num_workers = 2\n",
        "num_classes = 20"
      ]
    },
    {
      "cell_type": "code",
      "source": [
        "# Normalize with mean and std -> 이거 dataset을 어떻게 집어넣지?\n",
        "# import utils\n",
        "# train_mean, train_std = utils.get_mean_and_std('/content/drive/MyDrive/대학원수업/[수업]딥러닝/kuaicv_assingment-main/train_data')\n",
        "# test_mean, test_std = utils.get_mean_and_std('/content/drive/MyDrive/대학원수업/[수업]딥러닝/kuaicv_assingment-main/test_data')"
      ],
      "metadata": {
        "id": "UM-Vmv7Urmek"
      },
      "execution_count": 23,
      "outputs": []
    },
    {
      "cell_type": "code",
      "execution_count": 24,
      "metadata": {
        "colab": {
          "base_uri": "https://localhost:8080/"
        },
        "id": "fuC31uekXuOK",
        "outputId": "2a162971-8265-43fa-b2a0-58afc518c2db",
        "scrolled": true
      },
      "outputs": [
        {
          "output_type": "stream",
          "name": "stdout",
          "text": [
            "==> Preparing data..\n"
          ]
        }
      ],
      "source": [
        "# Data\n",
        "print('==> Preparing data..')\n",
        "transform_train = transforms.Compose([\n",
        "    transforms.Resize((img_size, img_size)),\n",
        "    transforms.RandomHorizontalFlip(),\n",
        "    transforms.ToTensor(),\n",
        "    transforms.Normalize((0.485, 0.456, 0.406), (0.229, 0.224, 0.225)), # ImageNet standard\n",
        "])\n",
        "\n",
        "transform_test = transforms.Compose([\n",
        "    transforms.Resize((img_size, img_size)),\n",
        "    transforms.ToTensor(),\n",
        "    transforms.Normalize((0.485, 0.456, 0.406), (0.229, 0.224, 0.225)), # ImageNet standard\n",
        "])\n",
        "\n",
        "trainset = torchvision.datasets.ImageFolder(root='/content/drive/MyDrive/대학원수업/[수업]딥러닝/kuaicv_assingment-main/train_data', transform=transform_train)\n",
        "trainloader = torch.utils.data.DataLoader(trainset, batch_size=batch_size, shuffle=True, num_workers=num_workers)\n",
        "\n",
        "testset = torchvision.datasets.ImageFolder(root='/content/drive/MyDrive/대학원수업/[수업]딥러닝/kuaicv_assingment-main/test_data', transform=transform_test)\n",
        "testloader = torch.utils.data.DataLoader(testset, batch_size=batch_size, shuffle=False, num_workers=num_workers)"
      ]
    },
    {
      "cell_type": "code",
      "execution_count": 25,
      "metadata": {
        "colab": {
          "base_uri": "https://localhost:8080/"
        },
        "id": "d5HGF2AlXuOL",
        "outputId": "8929cc7a-71bc-44e9-f7b1-dbf9d8c3465d"
      },
      "outputs": [
        {
          "output_type": "stream",
          "name": "stdout",
          "text": [
            "==> Building model..\n"
          ]
        }
      ],
      "source": [
        "# Model\n",
        "print('==> Building model..')\n",
        "#net = MobileNetV2(num_classes)\n",
        "net = ResNet50(num_classes)\n",
        "#net = SimpleDLA(num_classes=num_classes)\n",
        "net = net.to(device)\n",
        "if device == 'cuda':\n",
        "    net = torch.nn.DataParallel(net)\n",
        "    cudnn.benchmark = True"
      ]
    },
    {
      "cell_type": "code",
      "execution_count": 26,
      "metadata": {
        "id": "B5Z5u-UEXuOM"
      },
      "outputs": [],
      "source": [
        "# Adjust below codes if you want to train model continuously.\n",
        "if False: \n",
        "    # Load checkpoint.\n",
        "    print('==> Resuming from checkpoint..')\n",
        "    assert os.path.isdir('checkpoint'), 'Error: no checkpoint directory found!'\n",
        "    checkpoint = torch.load('./checkpoint/ckpt.pth')\n",
        "    net.load_state_dict(checkpoint['net'])\n",
        "    best_acc = checkpoint['acc']\n",
        "    start_epoch = checkpoint['epoch']"
      ]
    },
    {
      "cell_type": "code",
      "execution_count": 27,
      "metadata": {
        "id": "6xLudfJVXuOM"
      },
      "outputs": [],
      "source": [
        "criterion = nn.CrossEntropyLoss()\n",
        "optimizer = optim.Adam(net.parameters(), lr=learning_rate, weight_decay=weight_decay)\n",
        "# optimizer = optim.SGD(net.parameters(), lr=learning_rate, momentum=momentum, weight_decay=weight_decay)\n",
        "scheduler = torch.optim.lr_scheduler.CosineAnnealingLR(optimizer, T_max=epochs)\n",
        "# scheduler = torch.optim.ReduceLROnPlateau(optimizer, 'min')\n",
        "# scheduler = torch.optim.lr_scheduler.CosineAnnealingWarmRestarts(optimizer, T_max=epochs)"
      ]
    },
    {
      "cell_type": "code",
      "execution_count": 28,
      "metadata": {
        "id": "HSfRHXurXuON"
      },
      "outputs": [],
      "source": [
        "# Training\n",
        "train_loss_list = []\n",
        "test_loss_list = []\n",
        "train_acc_list = []\n",
        "test_acc_list = []\n",
        "\n",
        "def train(epoch):\n",
        "    net.train()\n",
        "    train_loss = 0\n",
        "    correct = 0\n",
        "    total = 0\n",
        "    for batch_idx, (inputs, targets) in enumerate(trainloader):\n",
        "        inputs, targets = inputs.to(device), targets.to(device)\n",
        "        optimizer.zero_grad()\n",
        "        outputs = net(inputs)\n",
        "        loss = criterion(outputs, targets)\n",
        "        loss.backward()\n",
        "        optimizer.step()\n",
        "\n",
        "        train_loss += loss.item()\n",
        "        _, predicted = outputs.max(1)\n",
        "        total += targets.size(0)\n",
        "        correct += predicted.eq(targets).sum().item()\n",
        "\n",
        "        if (batch_idx+1)%25==0:\n",
        "            print(\"epoch : {}, Train iter : {} / {}, Loss : {:.4f}, Acc : {:.2f}% | {} / {}\".format(\n",
        "                epoch, \n",
        "                batch_idx+1, len(trainloader), \n",
        "                train_loss/(batch_idx+1), \n",
        "                100.*correct/total, correct, total))\n",
        "\n",
        "    print(\"Train epoch : {}, Loss : {:.4f}, Acc : {:.2f}% | {} / {}\".format(\n",
        "        epoch, \n",
        "        train_loss/(batch_idx+1), \n",
        "        100.*correct/total, correct, total))\n",
        "    train_loss_list.append(train_loss/(batch_idx+1))\n",
        "    train_acc_list.append(100.*correct/total)\n",
        "\n",
        "# Testing\n",
        "def test(epoch):\n",
        "    global best_acc\n",
        "    net.eval()\n",
        "    test_loss = 0\n",
        "    correct = 0\n",
        "    total = 0\n",
        "    with torch.no_grad():\n",
        "        for batch_idx, (inputs, targets) in enumerate(testloader):\n",
        "            inputs, targets = inputs.to(device), targets.to(device)\n",
        "            outputs = net(inputs)\n",
        "            loss = criterion(outputs, targets)\n",
        "\n",
        "            test_loss += loss.item()\n",
        "            _, predicted = outputs.max(1)\n",
        "            total += targets.size(0)\n",
        "            correct += predicted.eq(targets).sum().item()\n",
        "\n",
        "    # Save checkpoint.\n",
        "    acc = 100.*correct/total\n",
        "    if acc > best_acc:\n",
        "        print('Saving..')\n",
        "        state = {\n",
        "            'net': net.state_dict(),\n",
        "            'acc': acc,\n",
        "            'epoch': epoch,\n",
        "        }\n",
        "        if not os.path.isdir('checkpoint'):\n",
        "            os.mkdir('checkpoint')\n",
        "        torch.save(state, './checkpoint/ckpt_{}.pth'.format(epoch))\n",
        "        best_acc = acc\n",
        "\n",
        "    print(\"Test epoch : {}, Loss : {:.4f}, Acc : {:.2f}% | {} / {}\".format(\n",
        "        epoch,\n",
        "        test_loss/(batch_idx+1), \n",
        "        100.*correct/total, correct, total))\n",
        "    test_loss_list.append(test_loss/(batch_idx+1))\n",
        "    test_acc_list.append(100.*correct/total)"
      ]
    },
    {
      "cell_type": "code",
      "execution_count": null,
      "metadata": {
        "colab": {
          "base_uri": "https://localhost:8080/"
        },
        "id": "4jzwuKWMXuOO",
        "outputId": "7e072984-3a2f-48e3-8d45-07df0e954ea1"
      },
      "outputs": [
        {
          "output_type": "stream",
          "name": "stdout",
          "text": [
            "epoch : 0, Train iter : 25 / 125, Loss : 3.1155, Acc : 7.00% | 28 / 400\n",
            "epoch : 0, Train iter : 50 / 125, Loss : 2.9660, Acc : 11.12% | 89 / 800\n",
            "epoch : 0, Train iter : 75 / 125, Loss : 2.8790, Acc : 13.75% | 165 / 1200\n",
            "epoch : 0, Train iter : 100 / 125, Loss : 2.8520, Acc : 14.50% | 232 / 1600\n",
            "epoch : 0, Train iter : 125 / 125, Loss : 2.8152, Acc : 14.86% | 297 / 1999\n",
            "Train epoch : 0, Loss : 2.8152, Acc : 14.86% | 297 / 1999\n",
            "Test epoch : 0, Loss : 4.1821, Acc : 10.75% | 43 / 400\n",
            "epoch : 1, Train iter : 25 / 125, Loss : 2.5866, Acc : 19.00% | 76 / 400\n",
            "epoch : 1, Train iter : 50 / 125, Loss : 2.5459, Acc : 20.88% | 167 / 800\n",
            "epoch : 1, Train iter : 75 / 125, Loss : 2.5199, Acc : 22.50% | 270 / 1200\n",
            "epoch : 1, Train iter : 100 / 125, Loss : 2.4785, Acc : 24.06% | 385 / 1600\n",
            "epoch : 1, Train iter : 125 / 125, Loss : 2.4421, Acc : 24.91% | 498 / 1999\n",
            "Train epoch : 1, Loss : 2.4421, Acc : 24.91% | 498 / 1999\n",
            "Test epoch : 1, Loss : 2.2007, Acc : 32.75% | 131 / 400\n",
            "epoch : 2, Train iter : 25 / 125, Loss : 2.2359, Acc : 29.00% | 116 / 400\n",
            "epoch : 2, Train iter : 50 / 125, Loss : 2.2070, Acc : 30.62% | 245 / 800\n",
            "epoch : 2, Train iter : 75 / 125, Loss : 2.1912, Acc : 30.33% | 364 / 1200\n",
            "epoch : 2, Train iter : 100 / 125, Loss : 2.2109, Acc : 30.19% | 483 / 1600\n",
            "epoch : 2, Train iter : 125 / 125, Loss : 2.2056, Acc : 30.27% | 605 / 1999\n",
            "Train epoch : 2, Loss : 2.2056, Acc : 30.27% | 605 / 1999\n",
            "Test epoch : 2, Loss : 2.2900, Acc : 32.00% | 128 / 400\n",
            "epoch : 3, Train iter : 25 / 125, Loss : 2.0709, Acc : 33.75% | 135 / 400\n",
            "epoch : 3, Train iter : 50 / 125, Loss : 2.0275, Acc : 33.75% | 270 / 800\n",
            "epoch : 3, Train iter : 75 / 125, Loss : 2.0328, Acc : 34.75% | 417 / 1200\n",
            "epoch : 3, Train iter : 100 / 125, Loss : 2.0493, Acc : 35.12% | 562 / 1600\n",
            "epoch : 3, Train iter : 125 / 125, Loss : 2.0501, Acc : 35.27% | 705 / 1999\n",
            "Train epoch : 3, Loss : 2.0501, Acc : 35.27% | 705 / 1999\n",
            "Test epoch : 3, Loss : 2.4460, Acc : 31.75% | 127 / 400\n",
            "epoch : 4, Train iter : 25 / 125, Loss : 1.9575, Acc : 36.50% | 146 / 400\n",
            "epoch : 4, Train iter : 50 / 125, Loss : 1.8845, Acc : 39.50% | 316 / 800\n",
            "epoch : 4, Train iter : 75 / 125, Loss : 1.8828, Acc : 39.00% | 468 / 1200\n",
            "epoch : 4, Train iter : 100 / 125, Loss : 1.8664, Acc : 39.50% | 632 / 1600\n",
            "epoch : 4, Train iter : 125 / 125, Loss : 1.8668, Acc : 40.52% | 810 / 1999\n",
            "Train epoch : 4, Loss : 1.8668, Acc : 40.52% | 810 / 1999\n",
            "Test epoch : 4, Loss : 2.1270, Acc : 35.75% | 143 / 400\n",
            "epoch : 5, Train iter : 25 / 125, Loss : 1.6720, Acc : 46.50% | 186 / 400\n",
            "epoch : 5, Train iter : 50 / 125, Loss : 1.6606, Acc : 45.50% | 364 / 800\n",
            "epoch : 5, Train iter : 75 / 125, Loss : 1.7430, Acc : 44.08% | 529 / 1200\n",
            "epoch : 5, Train iter : 100 / 125, Loss : 1.7194, Acc : 45.00% | 720 / 1600\n",
            "epoch : 5, Train iter : 125 / 125, Loss : 1.7131, Acc : 45.32% | 906 / 1999\n",
            "Train epoch : 5, Loss : 1.7131, Acc : 45.32% | 906 / 1999\n",
            "Test epoch : 5, Loss : 1.8044, Acc : 43.00% | 172 / 400\n",
            "epoch : 6, Train iter : 25 / 125, Loss : 1.6017, Acc : 47.75% | 191 / 400\n",
            "epoch : 6, Train iter : 50 / 125, Loss : 1.5363, Acc : 51.00% | 408 / 800\n",
            "epoch : 6, Train iter : 75 / 125, Loss : 1.4770, Acc : 53.25% | 639 / 1200\n"
          ]
        }
      ],
      "source": [
        "for epoch in range(epochs):\n",
        "    train(epoch)\n",
        "    test(epoch)\n",
        "    scheduler.step()"
      ]
    },
    {
      "cell_type": "code",
      "execution_count": null,
      "metadata": {
        "id": "ShLihRJdXuOO"
      },
      "outputs": [],
      "source": [
        "#visualize metric\n",
        "import matplotlib.pyplot as plt\n",
        "\n",
        "fig = plt.figure(figsize=(10, 10))\n",
        "ax1 = fig.add_subplot(2, 1, 1)\n",
        "ax2 = fig.add_subplot(2, 1, 2)\n",
        "\n",
        "x = [i for i in range(1, epochs+1)]\n",
        "\n",
        "ax1.plot(x, train_loss_list, 'b--')\n",
        "ax1.plot(x, test_loss_list, 'r--')\n",
        "ax1.set_xlabel('epoch')\n",
        "ax1.set_ylabel('loss')\n",
        "ax1.legend(['train', 'test'])\n",
        "ax1.set_xticks(x)\n",
        "for i, v in enumerate(x):\n",
        "    if (i+1)%5==0: ax1.text(v, train_loss_list[i], \"{:0.5f}\".format(train_loss_list[i]), fontsize = 9, color='blue', horizontalalignment='center', verticalalignment='top')\n",
        "for i, v in enumerate(x):\n",
        "    if (i+1)%5==0: ax1.text(v, test_loss_list[i], \"{:0.5f}\".format(test_loss_list[i]), fontsize = 9, color='red', horizontalalignment='center', verticalalignment='bottom')\n",
        "\n",
        "\n",
        "ax2.plot(x, train_acc_list, 'b--')\n",
        "ax2.plot(x, test_acc_list, 'r--')\n",
        "ax2.set_xlabel('epoch')\n",
        "ax2.set_ylabel('accuracy')\n",
        "ax2.legend(['train', 'test'])\n",
        "ax2.set_xticks(x)\n",
        "for i, v in enumerate(x):\n",
        "    if (i+1)%5==0: ax2.text(v, train_acc_list[i], \"{:0.5f}\".format(train_acc_list[i]), fontsize = 9, color='blue', horizontalalignment='center', verticalalignment='bottom')\n",
        "for i, v in enumerate(x):\n",
        "    if (i+1)%5==0: ax2.text(v, test_acc_list[i], \"{:0.5f}\".format(test_acc_list[i]), fontsize = 9, color='red', horizontalalignment='center', verticalalignment='top')\n",
        "\n",
        "plt.show()"
      ]
    }
  ],
  "metadata": {
    "accelerator": "GPU",
    "colab": {
      "collapsed_sections": [],
      "name": "assignment_resnet50.ipynb",
      "provenance": [],
      "include_colab_link": true
    },
    "kernelspec": {
      "display_name": "Python 3",
      "language": "python",
      "name": "python3"
    },
    "language_info": {
      "codemirror_mode": {
        "name": "ipython",
        "version": 3
      },
      "file_extension": ".py",
      "mimetype": "text/x-python",
      "name": "python",
      "nbconvert_exporter": "python",
      "pygments_lexer": "ipython3",
      "version": "3.6.5"
    }
  },
  "nbformat": 4,
  "nbformat_minor": 0
}